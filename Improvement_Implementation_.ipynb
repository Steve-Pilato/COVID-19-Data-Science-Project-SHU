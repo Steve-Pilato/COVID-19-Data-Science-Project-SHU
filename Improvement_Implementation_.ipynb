{
  "nbformat": 4,
  "nbformat_minor": 0,
  "metadata": {
    "kernelspec": {
      "name": "python3",
      "display_name": "Python 3"
    },
    "colab": {
      "name": "Improvement Implementation .ipynb",
      "provenance": [],
      "collapsed_sections": [],
      "include_colab_link": true
    }
  },
  "cells": [
    {
      "cell_type": "markdown",
      "metadata": {
        "id": "view-in-github",
        "colab_type": "text"
      },
      "source": [
        "<a href=\"https://colab.research.google.com/github/Steve-Pilato/COVID-19-Data-Science-Project-SHU/blob/AddCrossValidation/Improvement_Implementation_.ipynb\" target=\"_parent\"><img src=\"https://colab.research.google.com/assets/colab-badge.svg\" alt=\"Open In Colab\"/></a>"
      ]
    },
    {
      "cell_type": "markdown",
      "metadata": {
        "id": "j8_DNZW6IgAp"
      },
      "source": [
        "# Improvement Implementation  \n",
        "### The goal for this section of the module was to find models that could outperform the prototype model (logistic regression). The models that were chosen were a feed forward neural network and adaboost. These models were expected to perform better based on their ability to better approximate a larger variety of input/output mappings (neural network) and findings in the literature (adaboost). Like with other notebooks that were previously submitted, we started by cleaning the data and creating pseudo-instances in order to attenuate the class imbalance problem. The baseline model was then computed in order to obtain the baseline metrics. A feedforward neural network was then used and validation/testing metrics were calculated (Parameters which produced the best results can be found in the script). Lastly, adaboost was trained and tested using the COVID-19 Mexico data. The findings were that both algorithms showed marginal improvement from the baseline accuracy rate (90.8%), with the feedforward neural network achieving the highest accuracy rate (92.3%) and adaboost receiving the second highest accuracy (91.6%). "
      ]
    },
    {
      "cell_type": "markdown",
      "metadata": {
        "id": "yxZLEOApIgAq"
      },
      "source": [
        "### Date obtained from Kaggle (https://www.kaggle.com/tanmoyx/covid19-patient-precondition-dataset)"
      ]
    },
    {
      "cell_type": "code",
      "metadata": {
        "id": "6Wa6QNR_IgAr"
      },
      "source": [
        "import pandas as pd #Data cleaning\n",
        "import os\n",
        "import matplotlib.pyplot as plt #Data visualization\n",
        "import seaborn as sns #Data visualization\n",
        "import numpy as np #data cleaning\n",
        "import warnings #Remove warnings\n",
        "\n",
        "#Sklearn modules\n",
        "from sklearn.model_selection import train_test_split \n",
        "from sklearn.model_selection import RandomizedSearchCV\n",
        "from sklearn.linear_model import LogisticRegression #model\n",
        "from sklearn.metrics import accuracy_score, classification_report, confusion_matrix, plot_confusion_matrix, plot_roc_curve\n",
        "from sklearn.neighbors import KNeighborsClassifier #moodel\n",
        "from sklearn.svm import LinearSVC\n",
        "from sklearn.ensemble import AdaBoostClassifier #Model\n",
        "\n",
        "#Other\n",
        "warnings.filterwarnings('ignore')"
      ],
      "execution_count": 1,
      "outputs": []
    },
    {
      "cell_type": "markdown",
      "metadata": {
        "id": "4oRbAXWGIgAu"
      },
      "source": [
        "# Data Import"
      ]
    },
    {
      "cell_type": "code",
      "metadata": {
        "id": "1nSKYYeQIgAu",
        "outputId": "c7ffc097-d612-4337-fb6d-8b2328e4a451",
        "colab": {
          "resources": {
            "http://localhost:8080/nbextensions/google.colab/files.js": {
              "data": "Ly8gQ29weXJpZ2h0IDIwMTcgR29vZ2xlIExMQwovLwovLyBMaWNlbnNlZCB1bmRlciB0aGUgQXBhY2hlIExpY2Vuc2UsIFZlcnNpb24gMi4wICh0aGUgIkxpY2Vuc2UiKTsKLy8geW91IG1heSBub3QgdXNlIHRoaXMgZmlsZSBleGNlcHQgaW4gY29tcGxpYW5jZSB3aXRoIHRoZSBMaWNlbnNlLgovLyBZb3UgbWF5IG9idGFpbiBhIGNvcHkgb2YgdGhlIExpY2Vuc2UgYXQKLy8KLy8gICAgICBodHRwOi8vd3d3LmFwYWNoZS5vcmcvbGljZW5zZXMvTElDRU5TRS0yLjAKLy8KLy8gVW5sZXNzIHJlcXVpcmVkIGJ5IGFwcGxpY2FibGUgbGF3IG9yIGFncmVlZCB0byBpbiB3cml0aW5nLCBzb2Z0d2FyZQovLyBkaXN0cmlidXRlZCB1bmRlciB0aGUgTGljZW5zZSBpcyBkaXN0cmlidXRlZCBvbiBhbiAiQVMgSVMiIEJBU0lTLAovLyBXSVRIT1VUIFdBUlJBTlRJRVMgT1IgQ09ORElUSU9OUyBPRiBBTlkgS0lORCwgZWl0aGVyIGV4cHJlc3Mgb3IgaW1wbGllZC4KLy8gU2VlIHRoZSBMaWNlbnNlIGZvciB0aGUgc3BlY2lmaWMgbGFuZ3VhZ2UgZ292ZXJuaW5nIHBlcm1pc3Npb25zIGFuZAovLyBsaW1pdGF0aW9ucyB1bmRlciB0aGUgTGljZW5zZS4KCi8qKgogKiBAZmlsZW92ZXJ2aWV3IEhlbHBlcnMgZm9yIGdvb2dsZS5jb2xhYiBQeXRob24gbW9kdWxlLgogKi8KKGZ1bmN0aW9uKHNjb3BlKSB7CmZ1bmN0aW9uIHNwYW4odGV4dCwgc3R5bGVBdHRyaWJ1dGVzID0ge30pIHsKICBjb25zdCBlbGVtZW50ID0gZG9jdW1lbnQuY3JlYXRlRWxlbWVudCgnc3BhbicpOwogIGVsZW1lbnQudGV4dENvbnRlbnQgPSB0ZXh0OwogIGZvciAoY29uc3Qga2V5IG9mIE9iamVjdC5rZXlzKHN0eWxlQXR0cmlidXRlcykpIHsKICAgIGVsZW1lbnQuc3R5bGVba2V5XSA9IHN0eWxlQXR0cmlidXRlc1trZXldOwogIH0KICByZXR1cm4gZWxlbWVudDsKfQoKLy8gTWF4IG51bWJlciBvZiBieXRlcyB3aGljaCB3aWxsIGJlIHVwbG9hZGVkIGF0IGEgdGltZS4KY29uc3QgTUFYX1BBWUxPQURfU0laRSA9IDEwMCAqIDEwMjQ7CgpmdW5jdGlvbiBfdXBsb2FkRmlsZXMoaW5wdXRJZCwgb3V0cHV0SWQpIHsKICBjb25zdCBzdGVwcyA9IHVwbG9hZEZpbGVzU3RlcChpbnB1dElkLCBvdXRwdXRJZCk7CiAgY29uc3Qgb3V0cHV0RWxlbWVudCA9IGRvY3VtZW50LmdldEVsZW1lbnRCeUlkKG91dHB1dElkKTsKICAvLyBDYWNoZSBzdGVwcyBvbiB0aGUgb3V0cHV0RWxlbWVudCB0byBtYWtlIGl0IGF2YWlsYWJsZSBmb3IgdGhlIG5leHQgY2FsbAogIC8vIHRvIHVwbG9hZEZpbGVzQ29udGludWUgZnJvbSBQeXRob24uCiAgb3V0cHV0RWxlbWVudC5zdGVwcyA9IHN0ZXBzOwoKICByZXR1cm4gX3VwbG9hZEZpbGVzQ29udGludWUob3V0cHV0SWQpOwp9CgovLyBUaGlzIGlzIHJvdWdobHkgYW4gYXN5bmMgZ2VuZXJhdG9yIChub3Qgc3VwcG9ydGVkIGluIHRoZSBicm93c2VyIHlldCksCi8vIHdoZXJlIHRoZXJlIGFyZSBtdWx0aXBsZSBhc3luY2hyb25vdXMgc3RlcHMgYW5kIHRoZSBQeXRob24gc2lkZSBpcyBnb2luZwovLyB0byBwb2xsIGZvciBjb21wbGV0aW9uIG9mIGVhY2ggc3RlcC4KLy8gVGhpcyB1c2VzIGEgUHJvbWlzZSB0byBibG9jayB0aGUgcHl0aG9uIHNpZGUgb24gY29tcGxldGlvbiBvZiBlYWNoIHN0ZXAsCi8vIHRoZW4gcGFzc2VzIHRoZSByZXN1bHQgb2YgdGhlIHByZXZpb3VzIHN0ZXAgYXMgdGhlIGlucHV0IHRvIHRoZSBuZXh0IHN0ZXAuCmZ1bmN0aW9uIF91cGxvYWRGaWxlc0NvbnRpbnVlKG91dHB1dElkKSB7CiAgY29uc3Qgb3V0cHV0RWxlbWVudCA9IGRvY3VtZW50LmdldEVsZW1lbnRCeUlkKG91dHB1dElkKTsKICBjb25zdCBzdGVwcyA9IG91dHB1dEVsZW1lbnQuc3RlcHM7CgogIGNvbnN0IG5leHQgPSBzdGVwcy5uZXh0KG91dHB1dEVsZW1lbnQubGFzdFByb21pc2VWYWx1ZSk7CiAgcmV0dXJuIFByb21pc2UucmVzb2x2ZShuZXh0LnZhbHVlLnByb21pc2UpLnRoZW4oKHZhbHVlKSA9PiB7CiAgICAvLyBDYWNoZSB0aGUgbGFzdCBwcm9taXNlIHZhbHVlIHRvIG1ha2UgaXQgYXZhaWxhYmxlIHRvIHRoZSBuZXh0CiAgICAvLyBzdGVwIG9mIHRoZSBnZW5lcmF0b3IuCiAgICBvdXRwdXRFbGVtZW50Lmxhc3RQcm9taXNlVmFsdWUgPSB2YWx1ZTsKICAgIHJldHVybiBuZXh0LnZhbHVlLnJlc3BvbnNlOwogIH0pOwp9CgovKioKICogR2VuZXJhdG9yIGZ1bmN0aW9uIHdoaWNoIGlzIGNhbGxlZCBiZXR3ZWVuIGVhY2ggYXN5bmMgc3RlcCBvZiB0aGUgdXBsb2FkCiAqIHByb2Nlc3MuCiAqIEBwYXJhbSB7c3RyaW5nfSBpbnB1dElkIEVsZW1lbnQgSUQgb2YgdGhlIGlucHV0IGZpbGUgcGlja2VyIGVsZW1lbnQuCiAqIEBwYXJhbSB7c3RyaW5nfSBvdXRwdXRJZCBFbGVtZW50IElEIG9mIHRoZSBvdXRwdXQgZGlzcGxheS4KICogQHJldHVybiB7IUl0ZXJhYmxlPCFPYmplY3Q+fSBJdGVyYWJsZSBvZiBuZXh0IHN0ZXBzLgogKi8KZnVuY3Rpb24qIHVwbG9hZEZpbGVzU3RlcChpbnB1dElkLCBvdXRwdXRJZCkgewogIGNvbnN0IGlucHV0RWxlbWVudCA9IGRvY3VtZW50LmdldEVsZW1lbnRCeUlkKGlucHV0SWQpOwogIGlucHV0RWxlbWVudC5kaXNhYmxlZCA9IGZhbHNlOwoKICBjb25zdCBvdXRwdXRFbGVtZW50ID0gZG9jdW1lbnQuZ2V0RWxlbWVudEJ5SWQob3V0cHV0SWQpOwogIG91dHB1dEVsZW1lbnQuaW5uZXJIVE1MID0gJyc7CgogIGNvbnN0IHBpY2tlZFByb21pc2UgPSBuZXcgUHJvbWlzZSgocmVzb2x2ZSkgPT4gewogICAgaW5wdXRFbGVtZW50LmFkZEV2ZW50TGlzdGVuZXIoJ2NoYW5nZScsIChlKSA9PiB7CiAgICAgIHJlc29sdmUoZS50YXJnZXQuZmlsZXMpOwogICAgfSk7CiAgfSk7CgogIGNvbnN0IGNhbmNlbCA9IGRvY3VtZW50LmNyZWF0ZUVsZW1lbnQoJ2J1dHRvbicpOwogIGlucHV0RWxlbWVudC5wYXJlbnRFbGVtZW50LmFwcGVuZENoaWxkKGNhbmNlbCk7CiAgY2FuY2VsLnRleHRDb250ZW50ID0gJ0NhbmNlbCB1cGxvYWQnOwogIGNvbnN0IGNhbmNlbFByb21pc2UgPSBuZXcgUHJvbWlzZSgocmVzb2x2ZSkgPT4gewogICAgY2FuY2VsLm9uY2xpY2sgPSAoKSA9PiB7CiAgICAgIHJlc29sdmUobnVsbCk7CiAgICB9OwogIH0pOwoKICAvLyBXYWl0IGZvciB0aGUgdXNlciB0byBwaWNrIHRoZSBmaWxlcy4KICBjb25zdCBmaWxlcyA9IHlpZWxkIHsKICAgIHByb21pc2U6IFByb21pc2UucmFjZShbcGlja2VkUHJvbWlzZSwgY2FuY2VsUHJvbWlzZV0pLAogICAgcmVzcG9uc2U6IHsKICAgICAgYWN0aW9uOiAnc3RhcnRpbmcnLAogICAgfQogIH07CgogIGNhbmNlbC5yZW1vdmUoKTsKCiAgLy8gRGlzYWJsZSB0aGUgaW5wdXQgZWxlbWVudCBzaW5jZSBmdXJ0aGVyIHBpY2tzIGFyZSBub3QgYWxsb3dlZC4KICBpbnB1dEVsZW1lbnQuZGlzYWJsZWQgPSB0cnVlOwoKICBpZiAoIWZpbGVzKSB7CiAgICByZXR1cm4gewogICAgICByZXNwb25zZTogewogICAgICAgIGFjdGlvbjogJ2NvbXBsZXRlJywKICAgICAgfQogICAgfTsKICB9CgogIGZvciAoY29uc3QgZmlsZSBvZiBmaWxlcykgewogICAgY29uc3QgbGkgPSBkb2N1bWVudC5jcmVhdGVFbGVtZW50KCdsaScpOwogICAgbGkuYXBwZW5kKHNwYW4oZmlsZS5uYW1lLCB7Zm9udFdlaWdodDogJ2JvbGQnfSkpOwogICAgbGkuYXBwZW5kKHNwYW4oCiAgICAgICAgYCgke2ZpbGUudHlwZSB8fCAnbi9hJ30pIC0gJHtmaWxlLnNpemV9IGJ5dGVzLCBgICsKICAgICAgICBgbGFzdCBtb2RpZmllZDogJHsKICAgICAgICAgICAgZmlsZS5sYXN0TW9kaWZpZWREYXRlID8gZmlsZS5sYXN0TW9kaWZpZWREYXRlLnRvTG9jYWxlRGF0ZVN0cmluZygpIDoKICAgICAgICAgICAgICAgICAgICAgICAgICAgICAgICAgICAgJ24vYSd9IC0gYCkpOwogICAgY29uc3QgcGVyY2VudCA9IHNwYW4oJzAlIGRvbmUnKTsKICAgIGxpLmFwcGVuZENoaWxkKHBlcmNlbnQpOwoKICAgIG91dHB1dEVsZW1lbnQuYXBwZW5kQ2hpbGQobGkpOwoKICAgIGNvbnN0IGZpbGVEYXRhUHJvbWlzZSA9IG5ldyBQcm9taXNlKChyZXNvbHZlKSA9PiB7CiAgICAgIGNvbnN0IHJlYWRlciA9IG5ldyBGaWxlUmVhZGVyKCk7CiAgICAgIHJlYWRlci5vbmxvYWQgPSAoZSkgPT4gewogICAgICAgIHJlc29sdmUoZS50YXJnZXQucmVzdWx0KTsKICAgICAgfTsKICAgICAgcmVhZGVyLnJlYWRBc0FycmF5QnVmZmVyKGZpbGUpOwogICAgfSk7CiAgICAvLyBXYWl0IGZvciB0aGUgZGF0YSB0byBiZSByZWFkeS4KICAgIGxldCBmaWxlRGF0YSA9IHlpZWxkIHsKICAgICAgcHJvbWlzZTogZmlsZURhdGFQcm9taXNlLAogICAgICByZXNwb25zZTogewogICAgICAgIGFjdGlvbjogJ2NvbnRpbnVlJywKICAgICAgfQogICAgfTsKCiAgICAvLyBVc2UgYSBjaHVua2VkIHNlbmRpbmcgdG8gYXZvaWQgbWVzc2FnZSBzaXplIGxpbWl0cy4gU2VlIGIvNjIxMTU2NjAuCiAgICBsZXQgcG9zaXRpb24gPSAwOwogICAgd2hpbGUgKHBvc2l0aW9uIDwgZmlsZURhdGEuYnl0ZUxlbmd0aCkgewogICAgICBjb25zdCBsZW5ndGggPSBNYXRoLm1pbihmaWxlRGF0YS5ieXRlTGVuZ3RoIC0gcG9zaXRpb24sIE1BWF9QQVlMT0FEX1NJWkUpOwogICAgICBjb25zdCBjaHVuayA9IG5ldyBVaW50OEFycmF5KGZpbGVEYXRhLCBwb3NpdGlvbiwgbGVuZ3RoKTsKICAgICAgcG9zaXRpb24gKz0gbGVuZ3RoOwoKICAgICAgY29uc3QgYmFzZTY0ID0gYnRvYShTdHJpbmcuZnJvbUNoYXJDb2RlLmFwcGx5KG51bGwsIGNodW5rKSk7CiAgICAgIHlpZWxkIHsKICAgICAgICByZXNwb25zZTogewogICAgICAgICAgYWN0aW9uOiAnYXBwZW5kJywKICAgICAgICAgIGZpbGU6IGZpbGUubmFtZSwKICAgICAgICAgIGRhdGE6IGJhc2U2NCwKICAgICAgICB9LAogICAgICB9OwogICAgICBwZXJjZW50LnRleHRDb250ZW50ID0KICAgICAgICAgIGAke01hdGgucm91bmQoKHBvc2l0aW9uIC8gZmlsZURhdGEuYnl0ZUxlbmd0aCkgKiAxMDApfSUgZG9uZWA7CiAgICB9CiAgfQoKICAvLyBBbGwgZG9uZS4KICB5aWVsZCB7CiAgICByZXNwb25zZTogewogICAgICBhY3Rpb246ICdjb21wbGV0ZScsCiAgICB9CiAgfTsKfQoKc2NvcGUuZ29vZ2xlID0gc2NvcGUuZ29vZ2xlIHx8IHt9OwpzY29wZS5nb29nbGUuY29sYWIgPSBzY29wZS5nb29nbGUuY29sYWIgfHwge307CnNjb3BlLmdvb2dsZS5jb2xhYi5fZmlsZXMgPSB7CiAgX3VwbG9hZEZpbGVzLAogIF91cGxvYWRGaWxlc0NvbnRpbnVlLAp9Owp9KShzZWxmKTsK",
              "ok": true,
              "headers": [
                [
                  "content-type",
                  "application/javascript"
                ]
              ],
              "status": 200,
              "status_text": ""
            }
          },
          "base_uri": "https://localhost:8080/",
          "height": 70
        }
      },
      "source": [
        "# Find current path\n",
        "from google.colab import files\n",
        "uploaded = files.upload()"
      ],
      "execution_count": 2,
      "outputs": [
        {
          "output_type": "display_data",
          "data": {
            "text/html": [
              "\n",
              "     <input type=\"file\" id=\"files-8de5de0c-d34b-4f39-acd0-4f86911cf5b0\" name=\"files[]\" multiple disabled\n",
              "        style=\"border:none\" />\n",
              "     <output id=\"result-8de5de0c-d34b-4f39-acd0-4f86911cf5b0\">\n",
              "      Upload widget is only available when the cell has been executed in the\n",
              "      current browser session. Please rerun this cell to enable.\n",
              "      </output>\n",
              "      <script src=\"/nbextensions/google.colab/files.js\"></script> "
            ],
            "text/plain": [
              "<IPython.core.display.HTML object>"
            ]
          },
          "metadata": {
            "tags": []
          }
        },
        {
          "output_type": "stream",
          "text": [
            "Saving covid.csv to covid.csv\n"
          ],
          "name": "stdout"
        }
      ]
    },
    {
      "cell_type": "code",
      "metadata": {
        "id": "hbNCp0rNJwSF"
      },
      "source": [
        "df = pd.read_csv('covid.csv')"
      ],
      "execution_count": 3,
      "outputs": []
    },
    {
      "cell_type": "code",
      "metadata": {
        "id": "J47pI9Z6IgAx",
        "outputId": "b9122faf-a87d-4171-b6e6-1adc92fa118a",
        "colab": {
          "base_uri": "https://localhost:8080/",
          "height": 297
        }
      },
      "source": [
        "df.describe()"
      ],
      "execution_count": 4,
      "outputs": [
        {
          "output_type": "execute_result",
          "data": {
            "text/html": [
              "<div>\n",
              "<style scoped>\n",
              "    .dataframe tbody tr th:only-of-type {\n",
              "        vertical-align: middle;\n",
              "    }\n",
              "\n",
              "    .dataframe tbody tr th {\n",
              "        vertical-align: top;\n",
              "    }\n",
              "\n",
              "    .dataframe thead th {\n",
              "        text-align: right;\n",
              "    }\n",
              "</style>\n",
              "<table border=\"1\" class=\"dataframe\">\n",
              "  <thead>\n",
              "    <tr style=\"text-align: right;\">\n",
              "      <th></th>\n",
              "      <th>sex</th>\n",
              "      <th>patient_type</th>\n",
              "      <th>intubed</th>\n",
              "      <th>pneumonia</th>\n",
              "      <th>age</th>\n",
              "      <th>pregnancy</th>\n",
              "      <th>diabetes</th>\n",
              "      <th>copd</th>\n",
              "      <th>asthma</th>\n",
              "      <th>inmsupr</th>\n",
              "      <th>hypertension</th>\n",
              "      <th>other_disease</th>\n",
              "      <th>cardiovascular</th>\n",
              "      <th>obesity</th>\n",
              "      <th>renal_chronic</th>\n",
              "      <th>tobacco</th>\n",
              "      <th>contact_other_covid</th>\n",
              "      <th>covid_res</th>\n",
              "      <th>icu</th>\n",
              "    </tr>\n",
              "  </thead>\n",
              "  <tbody>\n",
              "    <tr>\n",
              "      <th>count</th>\n",
              "      <td>566602.000000</td>\n",
              "      <td>566602.000000</td>\n",
              "      <td>566602.000000</td>\n",
              "      <td>566602.000000</td>\n",
              "      <td>566602.000000</td>\n",
              "      <td>566602.000000</td>\n",
              "      <td>566602.000000</td>\n",
              "      <td>566602.000000</td>\n",
              "      <td>566602.000000</td>\n",
              "      <td>566602.000000</td>\n",
              "      <td>566602.000000</td>\n",
              "      <td>566602.000000</td>\n",
              "      <td>566602.000000</td>\n",
              "      <td>566602.000000</td>\n",
              "      <td>566602.000000</td>\n",
              "      <td>566602.000000</td>\n",
              "      <td>566602.000000</td>\n",
              "      <td>566602.000000</td>\n",
              "      <td>566602.000000</td>\n",
              "    </tr>\n",
              "    <tr>\n",
              "      <th>mean</th>\n",
              "      <td>1.506726</td>\n",
              "      <td>1.215165</td>\n",
              "      <td>76.562952</td>\n",
              "      <td>1.846262</td>\n",
              "      <td>42.622483</td>\n",
              "      <td>50.400692</td>\n",
              "      <td>2.210633</td>\n",
              "      <td>2.280221</td>\n",
              "      <td>2.265029</td>\n",
              "      <td>2.319628</td>\n",
              "      <td>2.145774</td>\n",
              "      <td>2.410030</td>\n",
              "      <td>2.286157</td>\n",
              "      <td>2.138905</td>\n",
              "      <td>2.283765</td>\n",
              "      <td>2.238360</td>\n",
              "      <td>31.573034</td>\n",
              "      <td>1.728651</td>\n",
              "      <td>76.562864</td>\n",
              "    </tr>\n",
              "    <tr>\n",
              "      <th>std</th>\n",
              "      <td>0.499955</td>\n",
              "      <td>0.410937</td>\n",
              "      <td>39.058676</td>\n",
              "      <td>0.560939</td>\n",
              "      <td>16.659973</td>\n",
              "      <td>47.501579</td>\n",
              "      <td>5.683523</td>\n",
              "      <td>5.327832</td>\n",
              "      <td>5.334658</td>\n",
              "      <td>5.667381</td>\n",
              "      <td>5.459866</td>\n",
              "      <td>6.489959</td>\n",
              "      <td>5.438405</td>\n",
              "      <td>5.395578</td>\n",
              "      <td>5.393232</td>\n",
              "      <td>5.571901</td>\n",
              "      <td>45.082123</td>\n",
              "      <td>0.658710</td>\n",
              "      <td>39.059060</td>\n",
              "    </tr>\n",
              "    <tr>\n",
              "      <th>min</th>\n",
              "      <td>1.000000</td>\n",
              "      <td>1.000000</td>\n",
              "      <td>1.000000</td>\n",
              "      <td>1.000000</td>\n",
              "      <td>0.000000</td>\n",
              "      <td>1.000000</td>\n",
              "      <td>1.000000</td>\n",
              "      <td>1.000000</td>\n",
              "      <td>1.000000</td>\n",
              "      <td>1.000000</td>\n",
              "      <td>1.000000</td>\n",
              "      <td>1.000000</td>\n",
              "      <td>1.000000</td>\n",
              "      <td>1.000000</td>\n",
              "      <td>1.000000</td>\n",
              "      <td>1.000000</td>\n",
              "      <td>1.000000</td>\n",
              "      <td>1.000000</td>\n",
              "      <td>1.000000</td>\n",
              "    </tr>\n",
              "    <tr>\n",
              "      <th>25%</th>\n",
              "      <td>1.000000</td>\n",
              "      <td>1.000000</td>\n",
              "      <td>97.000000</td>\n",
              "      <td>2.000000</td>\n",
              "      <td>31.000000</td>\n",
              "      <td>2.000000</td>\n",
              "      <td>2.000000</td>\n",
              "      <td>2.000000</td>\n",
              "      <td>2.000000</td>\n",
              "      <td>2.000000</td>\n",
              "      <td>2.000000</td>\n",
              "      <td>2.000000</td>\n",
              "      <td>2.000000</td>\n",
              "      <td>2.000000</td>\n",
              "      <td>2.000000</td>\n",
              "      <td>2.000000</td>\n",
              "      <td>1.000000</td>\n",
              "      <td>1.000000</td>\n",
              "      <td>97.000000</td>\n",
              "    </tr>\n",
              "    <tr>\n",
              "      <th>50%</th>\n",
              "      <td>2.000000</td>\n",
              "      <td>1.000000</td>\n",
              "      <td>97.000000</td>\n",
              "      <td>2.000000</td>\n",
              "      <td>41.000000</td>\n",
              "      <td>97.000000</td>\n",
              "      <td>2.000000</td>\n",
              "      <td>2.000000</td>\n",
              "      <td>2.000000</td>\n",
              "      <td>2.000000</td>\n",
              "      <td>2.000000</td>\n",
              "      <td>2.000000</td>\n",
              "      <td>2.000000</td>\n",
              "      <td>2.000000</td>\n",
              "      <td>2.000000</td>\n",
              "      <td>2.000000</td>\n",
              "      <td>2.000000</td>\n",
              "      <td>2.000000</td>\n",
              "      <td>97.000000</td>\n",
              "    </tr>\n",
              "    <tr>\n",
              "      <th>75%</th>\n",
              "      <td>2.000000</td>\n",
              "      <td>1.000000</td>\n",
              "      <td>97.000000</td>\n",
              "      <td>2.000000</td>\n",
              "      <td>53.000000</td>\n",
              "      <td>97.000000</td>\n",
              "      <td>2.000000</td>\n",
              "      <td>2.000000</td>\n",
              "      <td>2.000000</td>\n",
              "      <td>2.000000</td>\n",
              "      <td>2.000000</td>\n",
              "      <td>2.000000</td>\n",
              "      <td>2.000000</td>\n",
              "      <td>2.000000</td>\n",
              "      <td>2.000000</td>\n",
              "      <td>2.000000</td>\n",
              "      <td>99.000000</td>\n",
              "      <td>2.000000</td>\n",
              "      <td>97.000000</td>\n",
              "    </tr>\n",
              "    <tr>\n",
              "      <th>max</th>\n",
              "      <td>2.000000</td>\n",
              "      <td>2.000000</td>\n",
              "      <td>99.000000</td>\n",
              "      <td>99.000000</td>\n",
              "      <td>120.000000</td>\n",
              "      <td>98.000000</td>\n",
              "      <td>98.000000</td>\n",
              "      <td>98.000000</td>\n",
              "      <td>98.000000</td>\n",
              "      <td>98.000000</td>\n",
              "      <td>98.000000</td>\n",
              "      <td>98.000000</td>\n",
              "      <td>98.000000</td>\n",
              "      <td>98.000000</td>\n",
              "      <td>98.000000</td>\n",
              "      <td>98.000000</td>\n",
              "      <td>99.000000</td>\n",
              "      <td>3.000000</td>\n",
              "      <td>99.000000</td>\n",
              "    </tr>\n",
              "  </tbody>\n",
              "</table>\n",
              "</div>"
            ],
            "text/plain": [
              "                 sex   patient_type  ...      covid_res            icu\n",
              "count  566602.000000  566602.000000  ...  566602.000000  566602.000000\n",
              "mean        1.506726       1.215165  ...       1.728651      76.562864\n",
              "std         0.499955       0.410937  ...       0.658710      39.059060\n",
              "min         1.000000       1.000000  ...       1.000000       1.000000\n",
              "25%         1.000000       1.000000  ...       1.000000      97.000000\n",
              "50%         2.000000       1.000000  ...       2.000000      97.000000\n",
              "75%         2.000000       1.000000  ...       2.000000      97.000000\n",
              "max         2.000000       2.000000  ...       3.000000      99.000000\n",
              "\n",
              "[8 rows x 19 columns]"
            ]
          },
          "metadata": {
            "tags": []
          },
          "execution_count": 4
        }
      ]
    },
    {
      "cell_type": "markdown",
      "metadata": {
        "id": "F1lKQ_z1IgAz"
      },
      "source": [
        "# Feature Engineering "
      ]
    },
    {
      "cell_type": "code",
      "metadata": {
        "id": "vi9uCxhTIgAz",
        "outputId": "00c641a4-950e-48df-e3b1-ad3f74aaf759",
        "colab": {
          "base_uri": "https://localhost:8080/"
        }
      },
      "source": [
        "#Look at column data types\n",
        "df.dtypes"
      ],
      "execution_count": 5,
      "outputs": [
        {
          "output_type": "execute_result",
          "data": {
            "text/plain": [
              "id                     object\n",
              "sex                     int64\n",
              "patient_type            int64\n",
              "entry_date             object\n",
              "date_symptoms          object\n",
              "date_died              object\n",
              "intubed                 int64\n",
              "pneumonia               int64\n",
              "age                     int64\n",
              "pregnancy               int64\n",
              "diabetes                int64\n",
              "copd                    int64\n",
              "asthma                  int64\n",
              "inmsupr                 int64\n",
              "hypertension            int64\n",
              "other_disease           int64\n",
              "cardiovascular          int64\n",
              "obesity                 int64\n",
              "renal_chronic           int64\n",
              "tobacco                 int64\n",
              "contact_other_covid     int64\n",
              "covid_res               int64\n",
              "icu                     int64\n",
              "dtype: object"
            ]
          },
          "metadata": {
            "tags": []
          },
          "execution_count": 5
        }
      ]
    },
    {
      "cell_type": "code",
      "metadata": {
        "id": "m6aSIKBrIgA1",
        "outputId": "dddefee0-292a-4d39-94ef-664fcf879596",
        "colab": {
          "base_uri": "https://localhost:8080/"
        }
      },
      "source": [
        "df.date_died = df['date_died'].astype(str)\n",
        "df.dtypes"
      ],
      "execution_count": 6,
      "outputs": [
        {
          "output_type": "execute_result",
          "data": {
            "text/plain": [
              "id                     object\n",
              "sex                     int64\n",
              "patient_type            int64\n",
              "entry_date             object\n",
              "date_symptoms          object\n",
              "date_died              object\n",
              "intubed                 int64\n",
              "pneumonia               int64\n",
              "age                     int64\n",
              "pregnancy               int64\n",
              "diabetes                int64\n",
              "copd                    int64\n",
              "asthma                  int64\n",
              "inmsupr                 int64\n",
              "hypertension            int64\n",
              "other_disease           int64\n",
              "cardiovascular          int64\n",
              "obesity                 int64\n",
              "renal_chronic           int64\n",
              "tobacco                 int64\n",
              "contact_other_covid     int64\n",
              "covid_res               int64\n",
              "icu                     int64\n",
              "dtype: object"
            ]
          },
          "metadata": {
            "tags": []
          },
          "execution_count": 6
        }
      ]
    },
    {
      "cell_type": "code",
      "metadata": {
        "id": "3o6yzmrqIgA4"
      },
      "source": [
        "#Change variable assignment \n",
        "df_covid_pos = df\n",
        "\n",
        "#Discretize date died to patient died\n",
        "df_covid_pos['died'] = df_covid_pos['date_died'].apply(lambda x: int(0) if x == '9999-99-99' else int(1))"
      ],
      "execution_count": 7,
      "outputs": []
    },
    {
      "cell_type": "markdown",
      "metadata": {
        "id": "AlOPAvn7IgBA"
      },
      "source": [
        "# Data Cleaning"
      ]
    },
    {
      "cell_type": "code",
      "metadata": {
        "id": "fUD5iqJuIgBB",
        "outputId": "a443448d-1791-451a-adbc-b28d449246ac",
        "colab": {
          "base_uri": "https://localhost:8080/"
        }
      },
      "source": [
        "#### Convert numbers values that indicate incomplete data into NaN ####\n",
        "features = list(df_covid_pos.columns) #Create list of column names\n",
        "\n",
        "#Loop through and check for values that should be replaced with NaN\n",
        "print(\"Starting NaN Input...\")\n",
        "for curr_feature in features:\n",
        "    print(\"{} start\".format(curr_feature)) #Current feature in loop\n",
        "    df_covid_pos[curr_feature] =    df_covid_pos[curr_feature].apply(lambda x: np.nan if (x == 97) or (x == 98) or (x == 99) else x)\n",
        "    print(\"{} end\".format(curr_feature)) #Current feature in loop\n",
        "print(\"NaN Input Finished\")"
      ],
      "execution_count": 8,
      "outputs": [
        {
          "output_type": "stream",
          "text": [
            "Starting NaN Input...\n",
            "id start\n",
            "id end\n",
            "sex start\n",
            "sex end\n",
            "patient_type start\n",
            "patient_type end\n",
            "entry_date start\n",
            "entry_date end\n",
            "date_symptoms start\n",
            "date_symptoms end\n",
            "date_died start\n",
            "date_died end\n",
            "intubed start\n",
            "intubed end\n",
            "pneumonia start\n",
            "pneumonia end\n",
            "age start\n",
            "age end\n",
            "pregnancy start\n",
            "pregnancy end\n",
            "diabetes start\n",
            "diabetes end\n",
            "copd start\n",
            "copd end\n",
            "asthma start\n",
            "asthma end\n",
            "inmsupr start\n",
            "inmsupr end\n",
            "hypertension start\n",
            "hypertension end\n",
            "other_disease start\n",
            "other_disease end\n",
            "cardiovascular start\n",
            "cardiovascular end\n",
            "obesity start\n",
            "obesity end\n",
            "renal_chronic start\n",
            "renal_chronic end\n",
            "tobacco start\n",
            "tobacco end\n",
            "contact_other_covid start\n",
            "contact_other_covid end\n",
            "covid_res start\n",
            "covid_res end\n",
            "icu start\n",
            "icu end\n",
            "died start\n",
            "died end\n",
            "NaN Input Finished\n"
          ],
          "name": "stdout"
        }
      ]
    },
    {
      "cell_type": "code",
      "metadata": {
        "id": "HJkDo0yWIgBD",
        "outputId": "79fa8c64-400a-4b6d-84a7-0267a1992899",
        "colab": {
          "base_uri": "https://localhost:8080/",
          "height": 292
        }
      },
      "source": [
        "df_covid_pos.head()"
      ],
      "execution_count": 9,
      "outputs": [
        {
          "output_type": "execute_result",
          "data": {
            "text/html": [
              "<div>\n",
              "<style scoped>\n",
              "    .dataframe tbody tr th:only-of-type {\n",
              "        vertical-align: middle;\n",
              "    }\n",
              "\n",
              "    .dataframe tbody tr th {\n",
              "        vertical-align: top;\n",
              "    }\n",
              "\n",
              "    .dataframe thead th {\n",
              "        text-align: right;\n",
              "    }\n",
              "</style>\n",
              "<table border=\"1\" class=\"dataframe\">\n",
              "  <thead>\n",
              "    <tr style=\"text-align: right;\">\n",
              "      <th></th>\n",
              "      <th>id</th>\n",
              "      <th>sex</th>\n",
              "      <th>patient_type</th>\n",
              "      <th>entry_date</th>\n",
              "      <th>date_symptoms</th>\n",
              "      <th>date_died</th>\n",
              "      <th>intubed</th>\n",
              "      <th>pneumonia</th>\n",
              "      <th>age</th>\n",
              "      <th>pregnancy</th>\n",
              "      <th>diabetes</th>\n",
              "      <th>copd</th>\n",
              "      <th>asthma</th>\n",
              "      <th>inmsupr</th>\n",
              "      <th>hypertension</th>\n",
              "      <th>other_disease</th>\n",
              "      <th>cardiovascular</th>\n",
              "      <th>obesity</th>\n",
              "      <th>renal_chronic</th>\n",
              "      <th>tobacco</th>\n",
              "      <th>contact_other_covid</th>\n",
              "      <th>covid_res</th>\n",
              "      <th>icu</th>\n",
              "      <th>died</th>\n",
              "    </tr>\n",
              "  </thead>\n",
              "  <tbody>\n",
              "    <tr>\n",
              "      <th>0</th>\n",
              "      <td>16169f</td>\n",
              "      <td>2</td>\n",
              "      <td>1</td>\n",
              "      <td>04-05-2020</td>\n",
              "      <td>02-05-2020</td>\n",
              "      <td>9999-99-99</td>\n",
              "      <td>NaN</td>\n",
              "      <td>2.0</td>\n",
              "      <td>27.0</td>\n",
              "      <td>NaN</td>\n",
              "      <td>2.0</td>\n",
              "      <td>2.0</td>\n",
              "      <td>2.0</td>\n",
              "      <td>2.0</td>\n",
              "      <td>2.0</td>\n",
              "      <td>2.0</td>\n",
              "      <td>2.0</td>\n",
              "      <td>2.0</td>\n",
              "      <td>2.0</td>\n",
              "      <td>2.0</td>\n",
              "      <td>2.0</td>\n",
              "      <td>1</td>\n",
              "      <td>NaN</td>\n",
              "      <td>0</td>\n",
              "    </tr>\n",
              "    <tr>\n",
              "      <th>1</th>\n",
              "      <td>1009bf</td>\n",
              "      <td>2</td>\n",
              "      <td>1</td>\n",
              "      <td>19-03-2020</td>\n",
              "      <td>17-03-2020</td>\n",
              "      <td>9999-99-99</td>\n",
              "      <td>NaN</td>\n",
              "      <td>2.0</td>\n",
              "      <td>24.0</td>\n",
              "      <td>NaN</td>\n",
              "      <td>2.0</td>\n",
              "      <td>2.0</td>\n",
              "      <td>2.0</td>\n",
              "      <td>2.0</td>\n",
              "      <td>2.0</td>\n",
              "      <td>2.0</td>\n",
              "      <td>2.0</td>\n",
              "      <td>2.0</td>\n",
              "      <td>2.0</td>\n",
              "      <td>2.0</td>\n",
              "      <td>NaN</td>\n",
              "      <td>1</td>\n",
              "      <td>NaN</td>\n",
              "      <td>0</td>\n",
              "    </tr>\n",
              "    <tr>\n",
              "      <th>2</th>\n",
              "      <td>167386</td>\n",
              "      <td>1</td>\n",
              "      <td>2</td>\n",
              "      <td>06-04-2020</td>\n",
              "      <td>01-04-2020</td>\n",
              "      <td>9999-99-99</td>\n",
              "      <td>2.0</td>\n",
              "      <td>2.0</td>\n",
              "      <td>54.0</td>\n",
              "      <td>2.0</td>\n",
              "      <td>2.0</td>\n",
              "      <td>2.0</td>\n",
              "      <td>2.0</td>\n",
              "      <td>2.0</td>\n",
              "      <td>2.0</td>\n",
              "      <td>2.0</td>\n",
              "      <td>2.0</td>\n",
              "      <td>1.0</td>\n",
              "      <td>2.0</td>\n",
              "      <td>2.0</td>\n",
              "      <td>NaN</td>\n",
              "      <td>1</td>\n",
              "      <td>2.0</td>\n",
              "      <td>0</td>\n",
              "    </tr>\n",
              "    <tr>\n",
              "      <th>3</th>\n",
              "      <td>0b5948</td>\n",
              "      <td>2</td>\n",
              "      <td>2</td>\n",
              "      <td>17-04-2020</td>\n",
              "      <td>10-04-2020</td>\n",
              "      <td>9999-99-99</td>\n",
              "      <td>2.0</td>\n",
              "      <td>1.0</td>\n",
              "      <td>30.0</td>\n",
              "      <td>NaN</td>\n",
              "      <td>2.0</td>\n",
              "      <td>2.0</td>\n",
              "      <td>2.0</td>\n",
              "      <td>2.0</td>\n",
              "      <td>2.0</td>\n",
              "      <td>2.0</td>\n",
              "      <td>2.0</td>\n",
              "      <td>2.0</td>\n",
              "      <td>2.0</td>\n",
              "      <td>2.0</td>\n",
              "      <td>NaN</td>\n",
              "      <td>1</td>\n",
              "      <td>2.0</td>\n",
              "      <td>0</td>\n",
              "    </tr>\n",
              "    <tr>\n",
              "      <th>4</th>\n",
              "      <td>0d01b5</td>\n",
              "      <td>1</td>\n",
              "      <td>2</td>\n",
              "      <td>13-04-2020</td>\n",
              "      <td>13-04-2020</td>\n",
              "      <td>22-04-2020</td>\n",
              "      <td>2.0</td>\n",
              "      <td>2.0</td>\n",
              "      <td>60.0</td>\n",
              "      <td>2.0</td>\n",
              "      <td>1.0</td>\n",
              "      <td>2.0</td>\n",
              "      <td>2.0</td>\n",
              "      <td>2.0</td>\n",
              "      <td>1.0</td>\n",
              "      <td>2.0</td>\n",
              "      <td>1.0</td>\n",
              "      <td>2.0</td>\n",
              "      <td>2.0</td>\n",
              "      <td>2.0</td>\n",
              "      <td>NaN</td>\n",
              "      <td>1</td>\n",
              "      <td>2.0</td>\n",
              "      <td>1</td>\n",
              "    </tr>\n",
              "  </tbody>\n",
              "</table>\n",
              "</div>"
            ],
            "text/plain": [
              "       id  sex  patient_type  ... covid_res  icu died\n",
              "0  16169f    2             1  ...         1  NaN    0\n",
              "1  1009bf    2             1  ...         1  NaN    0\n",
              "2  167386    1             2  ...         1  2.0    0\n",
              "3  0b5948    2             2  ...         1  2.0    0\n",
              "4  0d01b5    1             2  ...         1  2.0    1\n",
              "\n",
              "[5 rows x 24 columns]"
            ]
          },
          "metadata": {
            "tags": []
          },
          "execution_count": 9
        }
      ]
    },
    {
      "cell_type": "markdown",
      "metadata": {
        "id": "0L2TGtaRIgBE"
      },
      "source": [
        "## Drop uneeded columns before remove NaN rows"
      ]
    },
    {
      "cell_type": "markdown",
      "metadata": {
        "id": "iGUA-OoAIgBF"
      },
      "source": [
        "### Graph Percentage of NaNs per Feature"
      ]
    },
    {
      "cell_type": "code",
      "metadata": {
        "id": "QP_qE5p5IgBF",
        "outputId": "4fad0793-73c0-43b7-a5b5-9a6e4669686a",
        "colab": {
          "base_uri": "https://localhost:8080/",
          "height": 372
        }
      },
      "source": [
        "missing_data = df_covid_pos.isnull().sum() * 100 / len(df)\n",
        "missing_data.plot.bar()\n",
        "plt.ylabel(\"Percentage of Values that are nan\")"
      ],
      "execution_count": 10,
      "outputs": [
        {
          "output_type": "execute_result",
          "data": {
            "text/plain": [
              "Text(0, 0.5, 'Percentage of Values that are nan')"
            ]
          },
          "metadata": {
            "tags": []
          },
          "execution_count": 10
        },
        {
          "output_type": "display_data",
          "data": {
            "image/png": "[encoded data removed]",
            "text/plain": [
              "<Figure size 432x288 with 1 Axes>"
            ]
          },
          "metadata": {
            "tags": [],
            "needs_background": "light"
          }
        }
      ]
    },
    {
      "cell_type": "markdown",
      "metadata": {
        "id": "SoqMaGhcIgBH"
      },
      "source": [
        "# Data Prep for predicting probability of death"
      ]
    },
    {
      "cell_type": "code",
      "metadata": {
        "id": "SWfFgKxcIgBI",
        "outputId": "5b65a1c0-727d-40fc-bc66-b2f93063c661",
        "colab": {
          "base_uri": "https://localhost:8080/"
        }
      },
      "source": [
        "# Remove certain features (non-dv candidates)\n",
        "df_covid_pos_columns_removed = df_covid_pos.drop(['id', 'patient_type', 'date_symptoms','entry_date', 'date_died', 'intubed', 'icu'], axis=1)\n",
        "print(\"Observations before na removal = {}\".format(df_covid_pos_columns_removed.shape[0]))\n",
        "\n",
        "#Remove rows with NaN\n",
        "df_covid_pos_columns_removed = df_covid_pos_columns_removed.dropna()\n",
        "print(\"Observations after na removal = {}\".format(df_covid_pos_columns_removed.shape[0]))\n",
        "\n",
        "#Remove dv and assign dv\n",
        "y = df_covid_pos_columns_removed.died.tolist()\n",
        "df_covid_pos_columns_removed = df_covid_pos_columns_removed.drop(['died'], axis = 1)\n",
        "\n",
        "#Create design matrix\n",
        "print(\"Model Predictors = {}\".format(df_covid_pos_columns_removed.columns))\n",
        "X = df_covid_pos_columns_removed.to_numpy()"
      ],
      "execution_count": 11,
      "outputs": [
        {
          "output_type": "stream",
          "text": [
            "Observations before na removal = 566602\n",
            "Observations after na removal = 190430\n",
            "Model Predictors = Index(['sex', 'pneumonia', 'age', 'pregnancy', 'diabetes', 'copd', 'asthma',\n",
            "       'inmsupr', 'hypertension', 'other_disease', 'cardiovascular', 'obesity',\n",
            "       'renal_chronic', 'tobacco', 'contact_other_covid', 'covid_res'],\n",
            "      dtype='object')\n"
          ],
          "name": "stdout"
        }
      ]
    },
    {
      "cell_type": "markdown",
      "metadata": {
        "collapsed": false,
        "pycharm": {
          "name": "#%% md\n"
        },
        "id": "dvj8pqnMIgBK"
      },
      "source": [
        "# Look to see if there is a class imbalance"
      ]
    },
    {
      "cell_type": "code",
      "metadata": {
        "pycharm": {
          "name": "#%%\n"
        },
        "id": "9TDrNlS6IgBK",
        "outputId": "3ff05526-713a-4fe6-b482-33ecdecb0031",
        "colab": {
          "base_uri": "https://localhost:8080/"
        }
      },
      "source": [
        "_, counts = np.unique(y, return_counts=True)\n",
        "print(counts)"
      ],
      "execution_count": 12,
      "outputs": [
        {
          "output_type": "stream",
          "text": [
            "[185849   4581]\n"
          ],
          "name": "stdout"
        }
      ]
    },
    {
      "cell_type": "markdown",
      "metadata": {
        "id": "pkQt6kEaIgBM"
      },
      "source": [
        "# Split data into train test split"
      ]
    },
    {
      "cell_type": "code",
      "metadata": {
        "id": "wp7XEhBbIgBM",
        "outputId": "0b37c326-fff6-45e7-863d-d7f3d55305b5",
        "colab": {
          "base_uri": "https://localhost:8080/"
        }
      },
      "source": [
        "#Check and make sure the number of rows in X match that in y\n",
        "print(\"nrow X = {}\".format(X.shape[0]))\n",
        "print(\"nrow y = {}\".format(len(y)))"
      ],
      "execution_count": 13,
      "outputs": [
        {
          "output_type": "stream",
          "text": [
            "nrow X = 190430\n",
            "nrow y = 190430\n"
          ],
          "name": "stdout"
        }
      ]
    },
    {
      "cell_type": "code",
      "metadata": {
        "id": "C-7VYi2fIgBO"
      },
      "source": [
        "seed = 7  #set random seed\n",
        "X_train, X_test, y_train, y_test = train_test_split(X, y,\n",
        "                                                    test_size = 0.3, #test_size (refer to the instructions for the assignment)\n",
        "                                                    random_state = seed, #seed the random generator for reproducibilty\n",
        "                                                    stratify = y)"
      ],
      "execution_count": 14,
      "outputs": []
    },
    {
      "cell_type": "markdown",
      "metadata": {
        "id": "nxLf7mNdIgBQ"
      },
      "source": [
        "# Model Training and Evaluation "
      ]
    },
    {
      "cell_type": "markdown",
      "metadata": {
        "id": "jFkKyffjIgBT"
      },
      "source": [
        "# Simulating more dead training instances"
      ]
    },
    {
      "cell_type": "markdown",
      "metadata": {
        "id": "4HzvW1ApIgBT"
      },
      "source": [
        "### Create function that simulates more instances of dead label"
      ]
    },
    {
      "cell_type": "code",
      "metadata": {
        "id": "0S9gHaUoIgBT"
      },
      "source": [
        "#Create a function that randomly samples from each attribute (Based on distribution of those who died)\n",
        "def random_label_generation(y_train, X_train, feature_names):\n",
        "    new_training_instances = dict() #Initialize dictionary object\n",
        "    output_train_array = np.array(y_train) #convert y_train to numpy array (Will allow for indexing )\n",
        "    unique, unique_counts = np.unique(output_train_array, return_counts = True) #count number of labels\n",
        "    min_label = unique[unique_counts == np.min(unique_counts)] #Finds the label with the smallest number of instances\n",
        "    input_train_matrix = X_train[output_train_array == min_label ,:] #Take only the rows that belong to the smallest label\n",
        "    number_instances_to_sample = np.max(unique_counts) - np.min(unique_counts) #Calculate the difference that needs to be accounted for\n",
        "    #Loop through and sample from each feature number_instances_to_sample times\n",
        "    for feature in range(len(feature_names)):\n",
        "        new_training_instances[feature_names[feature]] = np.random.choice(input_train_matrix[:, feature], number_instances_to_sample, replace = True)\n",
        "    return(new_training_instances)"
      ],
      "execution_count": 15,
      "outputs": []
    },
    {
      "cell_type": "markdown",
      "metadata": {
        "id": "VJLiaTF3IgBV"
      },
      "source": [
        "### Check that the number of dead instances match that of the number of alive instances"
      ]
    },
    {
      "cell_type": "code",
      "metadata": {
        "id": "xEV52sHHIgBW",
        "outputId": "b8dd8221-7346-4030-c9c2-dc47d5abde37",
        "colab": {
          "base_uri": "https://localhost:8080/"
        }
      },
      "source": [
        "new_traning_instances = random_label_generation(y_train, X_train, df_covid_pos_columns_removed.columns)\n",
        "new_traning_instances = pd.DataFrame(new_traning_instances).to_numpy()\n",
        "\n",
        "#Check and make sure the number of death training instances match the number of alive training instances\n",
        "diff_in_instances = (X_train[np.array(y_train) == 1 ,:].shape[0] +  new_traning_instances.shape[0]) - X_train[np.array(y_train) == 0 ,:].shape[0]#Take only the rows that belong to the smallest label\n",
        "print(\"Number of instances for those who died - Number of instances for those who survived = {}\".format(diff_in_instances))"
      ],
      "execution_count": 16,
      "outputs": [
        {
          "output_type": "stream",
          "text": [
            "Number of instances for those who died - Number of instances for those who survived = 0\n"
          ],
          "name": "stdout"
        }
      ]
    },
    {
      "cell_type": "code",
      "metadata": {
        "id": "A47qW8A_IgBX"
      },
      "source": [
        "# Add new training instances and labels to X_trian and y_train\n",
        "X_train_new = np.vstack((X_train, new_traning_instances)) #Combine old predictor instances with new\n",
        "y_train_new = list(y_train) + list(np.ones(new_traning_instances.shape[0]).astype(int)) #Combine new labels"
      ],
      "execution_count": 17,
      "outputs": []
    },
    {
      "cell_type": "markdown",
      "metadata": {
        "id": "g_CUyIvsIgBZ"
      },
      "source": [
        "# Logistic Regression with newly simulated instances (Prototype model)"
      ]
    },
    {
      "cell_type": "code",
      "metadata": {
        "id": "xOktnGljIgBa",
        "outputId": "bf20b08c-d190-4e08-a1a6-b3e48eec8d2b",
        "colab": {
          "base_uri": "https://localhost:8080/",
          "height": 575
        }
      },
      "source": [
        "#Fit/train model\n",
        "logisticRegr = LogisticRegression()\n",
        "logisticRegr.fit(X_train_new, y_train_new)\n",
        "\n",
        "#Test model\n",
        "y_pred = logisticRegr.predict(X_test)\n",
        "logisticRegr_accuracy = accuracy_score(y_test, y_pred)\n",
        "\n",
        "#Evaluate model\n",
        "print('Logistic Accuracy = {}'.format(logisticRegr_accuracy))\n",
        "plot_confusion_matrix(logisticRegr, X_test, y_test, normalize='true')\n",
        "plot_roc_curve(logisticRegr, X_test, y_test)"
      ],
      "execution_count": 18,
      "outputs": [
        {
          "output_type": "stream",
          "text": [
            "Logistic Accuracy = 0.9076651087888813\n"
          ],
          "name": "stdout"
        },
        {
          "output_type": "execute_result",
          "data": {
            "text/plain": [
              "<sklearn.metrics._plot.roc_curve.RocCurveDisplay at 0x7f4c2093c7f0>"
            ]
          },
          "metadata": {
            "tags": []
          },
          "execution_count": 18
        },
        {
          "output_type": "display_data",
          "data": {
            "image/png": "[encoded data removed]",
            "text/plain": [
              "<Figure size 432x288 with 2 Axes>"
            ]
          },
          "metadata": {
            "tags": [],
            "needs_background": "light"
          }
        },
        {
          "output_type": "display_data",
          "data": {
            "image/png": "[encoded data removed]",
            "text/plain": [
              "<Figure size 432x288 with 1 Axes>"
            ]
          },
          "metadata": {
            "tags": [],
            "needs_background": "light"
          }
        }
      ]
    },
    {
      "cell_type": "markdown",
      "metadata": {
        "id": "5kVDh8U2L1bN"
      },
      "source": [
        "# **DFFNN**"
      ]
    },
    {
      "cell_type": "code",
      "metadata": {
        "id": "7uBs12DjZ5Xu"
      },
      "source": [
        "from sklearn.preprocessing import MinMaxScaler\n",
        "\n",
        "sc = MinMaxScaler(feature_range = (0, 1))\n",
        "\n",
        "# scale the data\n",
        "\n",
        "X = sc.fit_transform(X_train_new)\n",
        "X_test = sc.fit_transform(X_test)\n",
        "y = np.array(y_train_new)\n",
        "y_test = np.array(y_test)"
      ],
      "execution_count": null,
      "outputs": []
    },
    {
      "cell_type": "code",
      "metadata": {
        "id": "mIesR2XSWodu"
      },
      "source": [
        "import keras\n",
        "from keras.models import Sequential\n",
        "from keras.layers import Dense\n",
        "from keras import metrics\n",
        "from keras.optimizers import Adam\n",
        "from keras.wrappers.scikit_learn import KerasClassifier\n",
        "from sklearn.model_selection import cross_val_score\n",
        "from sklearn.preprocessing import LabelEncoder\n",
        "from sklearn.model_selection import StratifiedKFold"
      ],
      "execution_count": null,
      "outputs": []
    },
    {
      "cell_type": "code",
      "metadata": {
        "id": "DFiNBG-aWbZ9",
        "outputId": "b46b4c61-b911-47d1-efee-2e5c6d262d03",
        "colab": {
          "base_uri": "https://localhost:8080/"
        }
      },
      "source": [
        "#Build a sequential model with (tried 1/2/3 layers)\n",
        "\n",
        "ffnn_model = Sequential()\n",
        "ffnn_model.add(Dense(400, activation='softmax', input_shape=(X.shape[1],))) \n",
        "\n",
        "#TODO: Add the first hidden layer with a suitable number of units/neurons and the 'relu' activation function\n",
        "ffnn_model.add(Dense(100, activation='relu'))\n",
        "#TODO: Add the second hidden layer with a suitable number of units/neurons and the 'relu' activation function\n",
        "#TODO: Add the output layer\n",
        "ffnn_model.add(Dense(1, activation='sigmoid'))\n",
        "\n",
        "my_optimizer = Adam(lr=0.00005)\n",
        "\n",
        "ffnn_model.compile(optimizer= my_optimizer, #TODO: state the optimize\n",
        "                   loss= 'binary_crossentropy',      #TODO: state the loss function\n",
        "                   metrics= [metrics.binary_accuracy]   #TODO: state the metric\n",
        "                  )\n",
        "\n",
        "ffnn_history = ffnn_model.fit(X, y, \n",
        "                              validation_split= 0.3, \n",
        "                              epochs= 500, #TODO: state the number of epochs (you may need to run the model a few times to find a suitable value)\n",
        "                              batch_size= 128 , #TODO: state the number of observations to use in each batch\n",
        "                              verbose=2)"
      ],
      "execution_count": null,
      "outputs": [
        {
          "output_type": "stream",
          "text": [
            "Epoch 1/500\n",
            "1423/1423 - 4s - loss: 0.6360 - binary_accuracy: 0.7143 - val_loss: 1.1167 - val_binary_accuracy: 0.0000e+00\n",
            "Epoch 2/500\n",
            "1423/1423 - 4s - loss: 0.5525 - binary_accuracy: 0.7143 - val_loss: 0.9802 - val_binary_accuracy: 0.0000e+00\n",
            "Epoch 3/500\n",
            "1423/1423 - 4s - loss: 0.3952 - binary_accuracy: 0.8145 - val_loss: 0.5990 - val_binary_accuracy: 0.7370\n",
            "Epoch 4/500\n",
            "1423/1423 - 4s - loss: 0.2823 - binary_accuracy: 0.8917 - val_loss: 0.4475 - val_binary_accuracy: 0.8162\n",
            "Epoch 5/500\n",
            "1423/1423 - 4s - loss: 0.2468 - binary_accuracy: 0.9025 - val_loss: 0.4044 - val_binary_accuracy: 0.8487\n",
            "Epoch 6/500\n",
            "1423/1423 - 4s - loss: 0.2357 - binary_accuracy: 0.9090 - val_loss: 0.3998 - val_binary_accuracy: 0.8553\n",
            "Epoch 7/500\n",
            "1423/1423 - 4s - loss: 0.2315 - binary_accuracy: 0.9093 - val_loss: 0.3899 - val_binary_accuracy: 0.8594\n",
            "Epoch 8/500\n",
            "1423/1423 - 4s - loss: 0.2295 - binary_accuracy: 0.9093 - val_loss: 0.3777 - val_binary_accuracy: 0.8637\n",
            "Epoch 9/500\n",
            "1423/1423 - 4s - loss: 0.2282 - binary_accuracy: 0.9093 - val_loss: 0.3815 - val_binary_accuracy: 0.8636\n",
            "Epoch 10/500\n",
            "1423/1423 - 4s - loss: 0.2272 - binary_accuracy: 0.9099 - val_loss: 0.3801 - val_binary_accuracy: 0.8649\n",
            "Epoch 11/500\n",
            "1423/1423 - 4s - loss: 0.2263 - binary_accuracy: 0.9103 - val_loss: 0.3801 - val_binary_accuracy: 0.8655\n",
            "Epoch 12/500\n",
            "1423/1423 - 4s - loss: 0.2255 - binary_accuracy: 0.9107 - val_loss: 0.3771 - val_binary_accuracy: 0.8672\n",
            "Epoch 13/500\n",
            "1423/1423 - 4s - loss: 0.2248 - binary_accuracy: 0.9108 - val_loss: 0.3817 - val_binary_accuracy: 0.8655\n",
            "Epoch 14/500\n",
            "1423/1423 - 4s - loss: 0.2242 - binary_accuracy: 0.9111 - val_loss: 0.3876 - val_binary_accuracy: 0.8639\n",
            "Epoch 15/500\n",
            "1423/1423 - 4s - loss: 0.2236 - binary_accuracy: 0.9114 - val_loss: 0.3780 - val_binary_accuracy: 0.8671\n",
            "Epoch 16/500\n",
            "1423/1423 - 4s - loss: 0.2230 - binary_accuracy: 0.9117 - val_loss: 0.3792 - val_binary_accuracy: 0.8666\n",
            "Epoch 17/500\n",
            "1423/1423 - 4s - loss: 0.2225 - binary_accuracy: 0.9118 - val_loss: 0.3794 - val_binary_accuracy: 0.8665\n",
            "Epoch 18/500\n",
            "1423/1423 - 4s - loss: 0.2221 - binary_accuracy: 0.9122 - val_loss: 0.3723 - val_binary_accuracy: 0.8691\n",
            "Epoch 19/500\n",
            "1423/1423 - 4s - loss: 0.2216 - binary_accuracy: 0.9124 - val_loss: 0.3818 - val_binary_accuracy: 0.8656\n",
            "Epoch 20/500\n",
            "1423/1423 - 4s - loss: 0.2212 - binary_accuracy: 0.9126 - val_loss: 0.3613 - val_binary_accuracy: 0.8723\n",
            "Epoch 21/500\n",
            "1423/1423 - 4s - loss: 0.2208 - binary_accuracy: 0.9127 - val_loss: 0.3809 - val_binary_accuracy: 0.8653\n",
            "Epoch 22/500\n",
            "1423/1423 - 4s - loss: 0.2204 - binary_accuracy: 0.9129 - val_loss: 0.3748 - val_binary_accuracy: 0.8670\n",
            "Epoch 23/500\n",
            "1423/1423 - 4s - loss: 0.2200 - binary_accuracy: 0.9131 - val_loss: 0.3605 - val_binary_accuracy: 0.8723\n",
            "Epoch 24/500\n",
            "1423/1423 - 4s - loss: 0.2196 - binary_accuracy: 0.9132 - val_loss: 0.3775 - val_binary_accuracy: 0.8663\n",
            "Epoch 25/500\n",
            "1423/1423 - 4s - loss: 0.2192 - binary_accuracy: 0.9135 - val_loss: 0.3746 - val_binary_accuracy: 0.8674\n",
            "Epoch 26/500\n",
            "1423/1423 - 4s - loss: 0.2189 - binary_accuracy: 0.9137 - val_loss: 0.3665 - val_binary_accuracy: 0.8706\n",
            "Epoch 27/500\n",
            "1423/1423 - 4s - loss: 0.2185 - binary_accuracy: 0.9138 - val_loss: 0.3613 - val_binary_accuracy: 0.8728\n",
            "Epoch 28/500\n",
            "1423/1423 - 4s - loss: 0.2182 - binary_accuracy: 0.9140 - val_loss: 0.3592 - val_binary_accuracy: 0.8740\n",
            "Epoch 29/500\n",
            "1423/1423 - 4s - loss: 0.2178 - binary_accuracy: 0.9142 - val_loss: 0.3594 - val_binary_accuracy: 0.8740\n",
            "Epoch 30/500\n",
            "1423/1423 - 4s - loss: 0.2175 - binary_accuracy: 0.9144 - val_loss: 0.3624 - val_binary_accuracy: 0.8736\n",
            "Epoch 31/500\n",
            "1423/1423 - 4s - loss: 0.2172 - binary_accuracy: 0.9144 - val_loss: 0.3528 - val_binary_accuracy: 0.8768\n",
            "Epoch 32/500\n",
            "1423/1423 - 4s - loss: 0.2170 - binary_accuracy: 0.9146 - val_loss: 0.3592 - val_binary_accuracy: 0.8752\n",
            "Epoch 33/500\n",
            "1423/1423 - 4s - loss: 0.2167 - binary_accuracy: 0.9147 - val_loss: 0.3601 - val_binary_accuracy: 0.8748\n",
            "Epoch 34/500\n",
            "1423/1423 - 4s - loss: 0.2165 - binary_accuracy: 0.9148 - val_loss: 0.3760 - val_binary_accuracy: 0.8688\n",
            "Epoch 35/500\n",
            "1423/1423 - 4s - loss: 0.2162 - binary_accuracy: 0.9151 - val_loss: 0.3684 - val_binary_accuracy: 0.8722\n",
            "Epoch 36/500\n",
            "1423/1423 - 4s - loss: 0.2160 - binary_accuracy: 0.9151 - val_loss: 0.3669 - val_binary_accuracy: 0.8724\n",
            "Epoch 37/500\n",
            "1423/1423 - 4s - loss: 0.2158 - binary_accuracy: 0.9152 - val_loss: 0.3577 - val_binary_accuracy: 0.8755\n",
            "Epoch 38/500\n",
            "1423/1423 - 4s - loss: 0.2156 - binary_accuracy: 0.9152 - val_loss: 0.3595 - val_binary_accuracy: 0.8747\n",
            "Epoch 39/500\n",
            "1423/1423 - 4s - loss: 0.2154 - binary_accuracy: 0.9153 - val_loss: 0.3501 - val_binary_accuracy: 0.8780\n",
            "Epoch 40/500\n",
            "1423/1423 - 4s - loss: 0.2152 - binary_accuracy: 0.9154 - val_loss: 0.3712 - val_binary_accuracy: 0.8709\n",
            "Epoch 41/500\n",
            "1423/1423 - 4s - loss: 0.2151 - binary_accuracy: 0.9156 - val_loss: 0.3448 - val_binary_accuracy: 0.8801\n",
            "Epoch 42/500\n",
            "1423/1423 - 4s - loss: 0.2150 - binary_accuracy: 0.9155 - val_loss: 0.3639 - val_binary_accuracy: 0.8731\n",
            "Epoch 43/500\n",
            "1423/1423 - 4s - loss: 0.2148 - binary_accuracy: 0.9155 - val_loss: 0.3564 - val_binary_accuracy: 0.8756\n",
            "Epoch 44/500\n",
            "1423/1423 - 4s - loss: 0.2147 - binary_accuracy: 0.9156 - val_loss: 0.3462 - val_binary_accuracy: 0.8792\n",
            "Epoch 45/500\n",
            "1423/1423 - 4s - loss: 0.2145 - binary_accuracy: 0.9158 - val_loss: 0.3587 - val_binary_accuracy: 0.8745\n",
            "Epoch 46/500\n",
            "1423/1423 - 4s - loss: 0.2144 - binary_accuracy: 0.9159 - val_loss: 0.3562 - val_binary_accuracy: 0.8758\n",
            "Epoch 47/500\n",
            "1423/1423 - 4s - loss: 0.2143 - binary_accuracy: 0.9158 - val_loss: 0.3613 - val_binary_accuracy: 0.8736\n",
            "Epoch 48/500\n",
            "1423/1423 - 4s - loss: 0.2142 - binary_accuracy: 0.9160 - val_loss: 0.3584 - val_binary_accuracy: 0.8750\n",
            "Epoch 49/500\n",
            "1423/1423 - 4s - loss: 0.2141 - binary_accuracy: 0.9159 - val_loss: 0.3612 - val_binary_accuracy: 0.8740\n",
            "Epoch 50/500\n",
            "1423/1423 - 4s - loss: 0.2140 - binary_accuracy: 0.9161 - val_loss: 0.3692 - val_binary_accuracy: 0.8711\n",
            "Epoch 51/500\n",
            "1423/1423 - 4s - loss: 0.2139 - binary_accuracy: 0.9161 - val_loss: 0.3442 - val_binary_accuracy: 0.8798\n",
            "Epoch 52/500\n",
            "1423/1423 - 4s - loss: 0.2138 - binary_accuracy: 0.9161 - val_loss: 0.3570 - val_binary_accuracy: 0.8758\n",
            "Epoch 53/500\n",
            "1423/1423 - 4s - loss: 0.2137 - binary_accuracy: 0.9161 - val_loss: 0.3577 - val_binary_accuracy: 0.8753\n",
            "Epoch 54/500\n",
            "1423/1423 - 4s - loss: 0.2136 - binary_accuracy: 0.9162 - val_loss: 0.3516 - val_binary_accuracy: 0.8774\n",
            "Epoch 55/500\n",
            "1423/1423 - 4s - loss: 0.2135 - binary_accuracy: 0.9162 - val_loss: 0.3593 - val_binary_accuracy: 0.8746\n",
            "Epoch 56/500\n",
            "1423/1423 - 4s - loss: 0.2134 - binary_accuracy: 0.9163 - val_loss: 0.3590 - val_binary_accuracy: 0.8747\n",
            "Epoch 57/500\n",
            "1423/1423 - 4s - loss: 0.2134 - binary_accuracy: 0.9162 - val_loss: 0.3515 - val_binary_accuracy: 0.8770\n",
            "Epoch 58/500\n",
            "1423/1423 - 4s - loss: 0.2132 - binary_accuracy: 0.9163 - val_loss: 0.3548 - val_binary_accuracy: 0.8760\n",
            "Epoch 59/500\n",
            "1423/1423 - 4s - loss: 0.2132 - binary_accuracy: 0.9163 - val_loss: 0.3649 - val_binary_accuracy: 0.8731\n",
            "Epoch 60/500\n",
            "1423/1423 - 4s - loss: 0.2131 - binary_accuracy: 0.9163 - val_loss: 0.3569 - val_binary_accuracy: 0.8758\n",
            "Epoch 61/500\n",
            "1423/1423 - 4s - loss: 0.2130 - binary_accuracy: 0.9164 - val_loss: 0.3614 - val_binary_accuracy: 0.8741\n",
            "Epoch 62/500\n",
            "1423/1423 - 4s - loss: 0.2130 - binary_accuracy: 0.9164 - val_loss: 0.3445 - val_binary_accuracy: 0.8803\n",
            "Epoch 63/500\n",
            "1423/1423 - 4s - loss: 0.2129 - binary_accuracy: 0.9164 - val_loss: 0.3574 - val_binary_accuracy: 0.8756\n",
            "Epoch 64/500\n",
            "1423/1423 - 4s - loss: 0.2128 - binary_accuracy: 0.9165 - val_loss: 0.3699 - val_binary_accuracy: 0.8710\n",
            "Epoch 65/500\n",
            "1423/1423 - 4s - loss: 0.2128 - binary_accuracy: 0.9164 - val_loss: 0.3681 - val_binary_accuracy: 0.8715\n",
            "Epoch 66/500\n",
            "1423/1423 - 4s - loss: 0.2127 - binary_accuracy: 0.9166 - val_loss: 0.3600 - val_binary_accuracy: 0.8745\n",
            "Epoch 67/500\n",
            "1423/1423 - 4s - loss: 0.2126 - binary_accuracy: 0.9165 - val_loss: 0.3677 - val_binary_accuracy: 0.8718\n",
            "Epoch 68/500\n",
            "1423/1423 - 4s - loss: 0.2126 - binary_accuracy: 0.9165 - val_loss: 0.3492 - val_binary_accuracy: 0.8781\n",
            "Epoch 69/500\n",
            "1423/1423 - 4s - loss: 0.2125 - binary_accuracy: 0.9167 - val_loss: 0.3677 - val_binary_accuracy: 0.8719\n",
            "Epoch 70/500\n",
            "1423/1423 - 4s - loss: 0.2125 - binary_accuracy: 0.9164 - val_loss: 0.3606 - val_binary_accuracy: 0.8741\n",
            "Epoch 71/500\n",
            "1423/1423 - 4s - loss: 0.2124 - binary_accuracy: 0.9166 - val_loss: 0.3634 - val_binary_accuracy: 0.8733\n",
            "Epoch 72/500\n",
            "1423/1423 - 4s - loss: 0.2124 - binary_accuracy: 0.9168 - val_loss: 0.3526 - val_binary_accuracy: 0.8774\n",
            "Epoch 73/500\n",
            "1423/1423 - 4s - loss: 0.2123 - binary_accuracy: 0.9167 - val_loss: 0.3509 - val_binary_accuracy: 0.8777\n",
            "Epoch 74/500\n",
            "1423/1423 - 4s - loss: 0.2122 - binary_accuracy: 0.9167 - val_loss: 0.3552 - val_binary_accuracy: 0.8766\n",
            "Epoch 75/500\n",
            "1423/1423 - 4s - loss: 0.2122 - binary_accuracy: 0.9167 - val_loss: 0.3664 - val_binary_accuracy: 0.8724\n",
            "Epoch 76/500\n",
            "1423/1423 - 4s - loss: 0.2122 - binary_accuracy: 0.9167 - val_loss: 0.3580 - val_binary_accuracy: 0.8752\n",
            "Epoch 77/500\n",
            "1423/1423 - 4s - loss: 0.2121 - binary_accuracy: 0.9167 - val_loss: 0.3456 - val_binary_accuracy: 0.8799\n",
            "Epoch 78/500\n",
            "1423/1423 - 4s - loss: 0.2121 - binary_accuracy: 0.9167 - val_loss: 0.3618 - val_binary_accuracy: 0.8740\n",
            "Epoch 79/500\n",
            "1423/1423 - 4s - loss: 0.2120 - binary_accuracy: 0.9167 - val_loss: 0.3612 - val_binary_accuracy: 0.8737\n",
            "Epoch 80/500\n",
            "1423/1423 - 4s - loss: 0.2120 - binary_accuracy: 0.9169 - val_loss: 0.3507 - val_binary_accuracy: 0.8779\n",
            "Epoch 81/500\n",
            "1423/1423 - 4s - loss: 0.2119 - binary_accuracy: 0.9168 - val_loss: 0.3447 - val_binary_accuracy: 0.8801\n",
            "Epoch 82/500\n",
            "1423/1423 - 4s - loss: 0.2119 - binary_accuracy: 0.9169 - val_loss: 0.3448 - val_binary_accuracy: 0.8804\n",
            "Epoch 83/500\n",
            "1423/1423 - 4s - loss: 0.2119 - binary_accuracy: 0.9169 - val_loss: 0.3542 - val_binary_accuracy: 0.8768\n",
            "Epoch 84/500\n",
            "1423/1423 - 4s - loss: 0.2118 - binary_accuracy: 0.9169 - val_loss: 0.3642 - val_binary_accuracy: 0.8732\n",
            "Epoch 85/500\n",
            "1423/1423 - 4s - loss: 0.2118 - binary_accuracy: 0.9169 - val_loss: 0.3644 - val_binary_accuracy: 0.8728\n",
            "Epoch 86/500\n",
            "1423/1423 - 4s - loss: 0.2117 - binary_accuracy: 0.9169 - val_loss: 0.3662 - val_binary_accuracy: 0.8724\n",
            "Epoch 87/500\n",
            "1423/1423 - 4s - loss: 0.2117 - binary_accuracy: 0.9169 - val_loss: 0.3592 - val_binary_accuracy: 0.8743\n",
            "Epoch 88/500\n",
            "1423/1423 - 4s - loss: 0.2116 - binary_accuracy: 0.9169 - val_loss: 0.3671 - val_binary_accuracy: 0.8720\n",
            "Epoch 89/500\n",
            "1423/1423 - 4s - loss: 0.2116 - binary_accuracy: 0.9169 - val_loss: 0.3612 - val_binary_accuracy: 0.8739\n",
            "Epoch 90/500\n",
            "1423/1423 - 4s - loss: 0.2116 - binary_accuracy: 0.9168 - val_loss: 0.3585 - val_binary_accuracy: 0.8756\n",
            "Epoch 91/500\n",
            "1423/1423 - 4s - loss: 0.2115 - binary_accuracy: 0.9171 - val_loss: 0.3500 - val_binary_accuracy: 0.8786\n",
            "Epoch 92/500\n",
            "1423/1423 - 4s - loss: 0.2115 - binary_accuracy: 0.9170 - val_loss: 0.3516 - val_binary_accuracy: 0.8777\n",
            "Epoch 93/500\n",
            "1423/1423 - 4s - loss: 0.2115 - binary_accuracy: 0.9170 - val_loss: 0.3480 - val_binary_accuracy: 0.8793\n",
            "Epoch 94/500\n",
            "1423/1423 - 4s - loss: 0.2114 - binary_accuracy: 0.9171 - val_loss: 0.3527 - val_binary_accuracy: 0.8774\n",
            "Epoch 95/500\n",
            "1423/1423 - 4s - loss: 0.2114 - binary_accuracy: 0.9170 - val_loss: 0.3659 - val_binary_accuracy: 0.8721\n",
            "Epoch 96/500\n",
            "1423/1423 - 4s - loss: 0.2113 - binary_accuracy: 0.9170 - val_loss: 0.3432 - val_binary_accuracy: 0.8817\n",
            "Epoch 97/500\n",
            "1423/1423 - 4s - loss: 0.2113 - binary_accuracy: 0.9171 - val_loss: 0.3542 - val_binary_accuracy: 0.8770\n",
            "Epoch 98/500\n",
            "1423/1423 - 4s - loss: 0.2113 - binary_accuracy: 0.9171 - val_loss: 0.3483 - val_binary_accuracy: 0.8789\n",
            "Epoch 99/500\n",
            "1423/1423 - 4s - loss: 0.2112 - binary_accuracy: 0.9171 - val_loss: 0.3636 - val_binary_accuracy: 0.8732\n",
            "Epoch 100/500\n",
            "1423/1423 - 4s - loss: 0.2112 - binary_accuracy: 0.9170 - val_loss: 0.3555 - val_binary_accuracy: 0.8761\n",
            "Epoch 101/500\n",
            "1423/1423 - 4s - loss: 0.2112 - binary_accuracy: 0.9171 - val_loss: 0.3598 - val_binary_accuracy: 0.8752\n",
            "Epoch 102/500\n",
            "1423/1423 - 4s - loss: 0.2112 - binary_accuracy: 0.9174 - val_loss: 0.3518 - val_binary_accuracy: 0.8782\n",
            "Epoch 103/500\n",
            "1423/1423 - 4s - loss: 0.2111 - binary_accuracy: 0.9172 - val_loss: 0.3450 - val_binary_accuracy: 0.8799\n",
            "Epoch 104/500\n",
            "1423/1423 - 4s - loss: 0.2111 - binary_accuracy: 0.9174 - val_loss: 0.3545 - val_binary_accuracy: 0.8766\n",
            "Epoch 105/500\n",
            "1423/1423 - 4s - loss: 0.2111 - binary_accuracy: 0.9172 - val_loss: 0.3451 - val_binary_accuracy: 0.8798\n",
            "Epoch 106/500\n",
            "1423/1423 - 4s - loss: 0.2110 - binary_accuracy: 0.9173 - val_loss: 0.3622 - val_binary_accuracy: 0.8735\n",
            "Epoch 107/500\n",
            "1423/1423 - 4s - loss: 0.2110 - binary_accuracy: 0.9174 - val_loss: 0.3560 - val_binary_accuracy: 0.8761\n",
            "Epoch 108/500\n",
            "1423/1423 - 4s - loss: 0.2110 - binary_accuracy: 0.9173 - val_loss: 0.3596 - val_binary_accuracy: 0.8753\n",
            "Epoch 109/500\n",
            "1423/1423 - 4s - loss: 0.2109 - binary_accuracy: 0.9174 - val_loss: 0.3481 - val_binary_accuracy: 0.8793\n",
            "Epoch 110/500\n",
            "1423/1423 - 4s - loss: 0.2109 - binary_accuracy: 0.9174 - val_loss: 0.3628 - val_binary_accuracy: 0.8738\n",
            "Epoch 111/500\n",
            "1423/1423 - 4s - loss: 0.2109 - binary_accuracy: 0.9174 - val_loss: 0.3776 - val_binary_accuracy: 0.8679\n",
            "Epoch 112/500\n",
            "1423/1423 - 4s - loss: 0.2108 - binary_accuracy: 0.9173 - val_loss: 0.3451 - val_binary_accuracy: 0.8802\n",
            "Epoch 113/500\n",
            "1423/1423 - 4s - loss: 0.2108 - binary_accuracy: 0.9174 - val_loss: 0.3607 - val_binary_accuracy: 0.8744\n",
            "Epoch 114/500\n",
            "1423/1423 - 4s - loss: 0.2108 - binary_accuracy: 0.9174 - val_loss: 0.3434 - val_binary_accuracy: 0.8812\n",
            "Epoch 115/500\n",
            "1423/1423 - 4s - loss: 0.2108 - binary_accuracy: 0.9175 - val_loss: 0.3547 - val_binary_accuracy: 0.8770\n",
            "Epoch 116/500\n",
            "1423/1423 - 4s - loss: 0.2107 - binary_accuracy: 0.9173 - val_loss: 0.3446 - val_binary_accuracy: 0.8806\n",
            "Epoch 117/500\n",
            "1423/1423 - 4s - loss: 0.2107 - binary_accuracy: 0.9175 - val_loss: 0.3434 - val_binary_accuracy: 0.8818\n",
            "Epoch 118/500\n",
            "1423/1423 - 4s - loss: 0.2107 - binary_accuracy: 0.9176 - val_loss: 0.3490 - val_binary_accuracy: 0.8795\n",
            "Epoch 119/500\n",
            "1423/1423 - 4s - loss: 0.2106 - binary_accuracy: 0.9175 - val_loss: 0.3404 - val_binary_accuracy: 0.8825\n",
            "Epoch 120/500\n",
            "1423/1423 - 4s - loss: 0.2106 - binary_accuracy: 0.9175 - val_loss: 0.3484 - val_binary_accuracy: 0.8801\n",
            "Epoch 121/500\n",
            "1423/1423 - 4s - loss: 0.2105 - binary_accuracy: 0.9176 - val_loss: 0.3390 - val_binary_accuracy: 0.8831\n",
            "Epoch 122/500\n",
            "1423/1423 - 4s - loss: 0.2105 - binary_accuracy: 0.9176 - val_loss: 0.3655 - val_binary_accuracy: 0.8734\n",
            "Epoch 123/500\n",
            "1423/1423 - 4s - loss: 0.2105 - binary_accuracy: 0.9175 - val_loss: 0.3491 - val_binary_accuracy: 0.8797\n",
            "Epoch 124/500\n",
            "1423/1423 - 4s - loss: 0.2105 - binary_accuracy: 0.9175 - val_loss: 0.3675 - val_binary_accuracy: 0.8728\n",
            "Epoch 125/500\n",
            "1423/1423 - 4s - loss: 0.2104 - binary_accuracy: 0.9177 - val_loss: 0.3425 - val_binary_accuracy: 0.8816\n",
            "Epoch 126/500\n",
            "1423/1423 - 4s - loss: 0.2104 - binary_accuracy: 0.9175 - val_loss: 0.3599 - val_binary_accuracy: 0.8757\n",
            "Epoch 127/500\n",
            "1423/1423 - 4s - loss: 0.2104 - binary_accuracy: 0.9179 - val_loss: 0.3562 - val_binary_accuracy: 0.8769\n",
            "Epoch 128/500\n",
            "1423/1423 - 4s - loss: 0.2103 - binary_accuracy: 0.9178 - val_loss: 0.3455 - val_binary_accuracy: 0.8807\n",
            "Epoch 129/500\n",
            "1423/1423 - 4s - loss: 0.2103 - binary_accuracy: 0.9178 - val_loss: 0.3578 - val_binary_accuracy: 0.8762\n",
            "Epoch 130/500\n",
            "1423/1423 - 4s - loss: 0.2102 - binary_accuracy: 0.9177 - val_loss: 0.3617 - val_binary_accuracy: 0.8751\n",
            "Epoch 131/500\n",
            "1423/1423 - 4s - loss: 0.2102 - binary_accuracy: 0.9177 - val_loss: 0.3321 - val_binary_accuracy: 0.8859\n",
            "Epoch 132/500\n",
            "1423/1423 - 4s - loss: 0.2102 - binary_accuracy: 0.9176 - val_loss: 0.3713 - val_binary_accuracy: 0.8708\n",
            "Epoch 133/500\n",
            "1423/1423 - 4s - loss: 0.2102 - binary_accuracy: 0.9177 - val_loss: 0.3612 - val_binary_accuracy: 0.8749\n",
            "Epoch 134/500\n",
            "1423/1423 - 4s - loss: 0.2101 - binary_accuracy: 0.9176 - val_loss: 0.3604 - val_binary_accuracy: 0.8757\n",
            "Epoch 135/500\n",
            "1423/1423 - 4s - loss: 0.2101 - binary_accuracy: 0.9178 - val_loss: 0.3710 - val_binary_accuracy: 0.8717\n",
            "Epoch 136/500\n",
            "1423/1423 - 4s - loss: 0.2101 - binary_accuracy: 0.9177 - val_loss: 0.3405 - val_binary_accuracy: 0.8826\n",
            "Epoch 137/500\n",
            "1423/1423 - 4s - loss: 0.2100 - binary_accuracy: 0.9177 - val_loss: 0.3483 - val_binary_accuracy: 0.8799\n",
            "Epoch 138/500\n",
            "1423/1423 - 4s - loss: 0.2100 - binary_accuracy: 0.9177 - val_loss: 0.3389 - val_binary_accuracy: 0.8834\n",
            "Epoch 139/500\n",
            "1423/1423 - 4s - loss: 0.2099 - binary_accuracy: 0.9178 - val_loss: 0.3362 - val_binary_accuracy: 0.8848\n",
            "Epoch 140/500\n",
            "1423/1423 - 4s - loss: 0.2099 - binary_accuracy: 0.9177 - val_loss: 0.3448 - val_binary_accuracy: 0.8813\n",
            "Epoch 141/500\n",
            "1423/1423 - 4s - loss: 0.2099 - binary_accuracy: 0.9177 - val_loss: 0.3535 - val_binary_accuracy: 0.8783\n",
            "Epoch 142/500\n",
            "1423/1423 - 4s - loss: 0.2099 - binary_accuracy: 0.9177 - val_loss: 0.3581 - val_binary_accuracy: 0.8766\n",
            "Epoch 143/500\n",
            "1423/1423 - 4s - loss: 0.2098 - binary_accuracy: 0.9178 - val_loss: 0.3488 - val_binary_accuracy: 0.8805\n",
            "Epoch 144/500\n",
            "1423/1423 - 4s - loss: 0.2098 - binary_accuracy: 0.9178 - val_loss: 0.3457 - val_binary_accuracy: 0.8809\n",
            "Epoch 145/500\n",
            "1423/1423 - 4s - loss: 0.2097 - binary_accuracy: 0.9179 - val_loss: 0.3632 - val_binary_accuracy: 0.8748\n",
            "Epoch 146/500\n",
            "1423/1423 - 4s - loss: 0.2097 - binary_accuracy: 0.9178 - val_loss: 0.3547 - val_binary_accuracy: 0.8778\n",
            "Epoch 147/500\n",
            "1423/1423 - 4s - loss: 0.2097 - binary_accuracy: 0.9178 - val_loss: 0.3659 - val_binary_accuracy: 0.8737\n",
            "Epoch 148/500\n",
            "1423/1423 - 4s - loss: 0.2097 - binary_accuracy: 0.9178 - val_loss: 0.3557 - val_binary_accuracy: 0.8776\n",
            "Epoch 149/500\n",
            "1423/1423 - 4s - loss: 0.2096 - binary_accuracy: 0.9178 - val_loss: 0.3443 - val_binary_accuracy: 0.8822\n",
            "Epoch 150/500\n",
            "1423/1423 - 4s - loss: 0.2096 - binary_accuracy: 0.9178 - val_loss: 0.3566 - val_binary_accuracy: 0.8768\n",
            "Epoch 151/500\n",
            "1423/1423 - 4s - loss: 0.2095 - binary_accuracy: 0.9178 - val_loss: 0.3532 - val_binary_accuracy: 0.8785\n",
            "Epoch 152/500\n",
            "1423/1423 - 4s - loss: 0.2095 - binary_accuracy: 0.9178 - val_loss: 0.3349 - val_binary_accuracy: 0.8860\n",
            "Epoch 153/500\n",
            "1423/1423 - 4s - loss: 0.2095 - binary_accuracy: 0.9179 - val_loss: 0.3364 - val_binary_accuracy: 0.8853\n",
            "Epoch 154/500\n",
            "1423/1423 - 4s - loss: 0.2095 - binary_accuracy: 0.9179 - val_loss: 0.3545 - val_binary_accuracy: 0.8778\n",
            "Epoch 155/500\n",
            "1423/1423 - 4s - loss: 0.2094 - binary_accuracy: 0.9179 - val_loss: 0.3624 - val_binary_accuracy: 0.8757\n",
            "Epoch 156/500\n",
            "1423/1423 - 4s - loss: 0.2094 - binary_accuracy: 0.9178 - val_loss: 0.3520 - val_binary_accuracy: 0.8793\n",
            "Epoch 157/500\n",
            "1423/1423 - 4s - loss: 0.2093 - binary_accuracy: 0.9182 - val_loss: 0.3718 - val_binary_accuracy: 0.8718\n",
            "Epoch 158/500\n",
            "1423/1423 - 4s - loss: 0.2093 - binary_accuracy: 0.9180 - val_loss: 0.3437 - val_binary_accuracy: 0.8820\n",
            "Epoch 159/500\n",
            "1423/1423 - 4s - loss: 0.2093 - binary_accuracy: 0.9178 - val_loss: 0.3358 - val_binary_accuracy: 0.8855\n",
            "Epoch 160/500\n",
            "1423/1423 - 4s - loss: 0.2093 - binary_accuracy: 0.9178 - val_loss: 0.3558 - val_binary_accuracy: 0.8776\n",
            "Epoch 161/500\n",
            "1423/1423 - 4s - loss: 0.2092 - binary_accuracy: 0.9178 - val_loss: 0.3374 - val_binary_accuracy: 0.8853\n",
            "Epoch 162/500\n",
            "1423/1423 - 4s - loss: 0.2092 - binary_accuracy: 0.9179 - val_loss: 0.3514 - val_binary_accuracy: 0.8796\n",
            "Epoch 163/500\n",
            "1423/1423 - 4s - loss: 0.2091 - binary_accuracy: 0.9180 - val_loss: 0.3540 - val_binary_accuracy: 0.8790\n",
            "Epoch 164/500\n",
            "1423/1423 - 4s - loss: 0.2092 - binary_accuracy: 0.9180 - val_loss: 0.3463 - val_binary_accuracy: 0.8816\n",
            "Epoch 165/500\n",
            "1423/1423 - 4s - loss: 0.2091 - binary_accuracy: 0.9180 - val_loss: 0.3411 - val_binary_accuracy: 0.8834\n",
            "Epoch 166/500\n",
            "1423/1423 - 4s - loss: 0.2091 - binary_accuracy: 0.9180 - val_loss: 0.3402 - val_binary_accuracy: 0.8840\n",
            "Epoch 167/500\n",
            "1423/1423 - 4s - loss: 0.2091 - binary_accuracy: 0.9180 - val_loss: 0.3512 - val_binary_accuracy: 0.8796\n",
            "Epoch 168/500\n",
            "1423/1423 - 4s - loss: 0.2090 - binary_accuracy: 0.9180 - val_loss: 0.3497 - val_binary_accuracy: 0.8801\n",
            "Epoch 169/500\n",
            "1423/1423 - 4s - loss: 0.2090 - binary_accuracy: 0.9179 - val_loss: 0.3480 - val_binary_accuracy: 0.8813\n",
            "Epoch 170/500\n",
            "1423/1423 - 5s - loss: 0.2090 - binary_accuracy: 0.9180 - val_loss: 0.3548 - val_binary_accuracy: 0.8786\n",
            "Epoch 171/500\n",
            "1423/1423 - 4s - loss: 0.2089 - binary_accuracy: 0.9179 - val_loss: 0.3551 - val_binary_accuracy: 0.8781\n",
            "Epoch 172/500\n",
            "1423/1423 - 4s - loss: 0.2089 - binary_accuracy: 0.9180 - val_loss: 0.3355 - val_binary_accuracy: 0.8863\n",
            "Epoch 173/500\n",
            "1423/1423 - 4s - loss: 0.2089 - binary_accuracy: 0.9180 - val_loss: 0.3575 - val_binary_accuracy: 0.8774\n",
            "Epoch 174/500\n",
            "1423/1423 - 4s - loss: 0.2089 - binary_accuracy: 0.9179 - val_loss: 0.3531 - val_binary_accuracy: 0.8797\n",
            "Epoch 175/500\n",
            "1423/1423 - 4s - loss: 0.2088 - binary_accuracy: 0.9181 - val_loss: 0.3477 - val_binary_accuracy: 0.8811\n",
            "Epoch 176/500\n",
            "1423/1423 - 4s - loss: 0.2088 - binary_accuracy: 0.9182 - val_loss: 0.3585 - val_binary_accuracy: 0.8771\n",
            "Epoch 177/500\n",
            "1423/1423 - 4s - loss: 0.2088 - binary_accuracy: 0.9181 - val_loss: 0.3432 - val_binary_accuracy: 0.8840\n",
            "Epoch 178/500\n",
            "1423/1423 - 4s - loss: 0.2088 - binary_accuracy: 0.9182 - val_loss: 0.3519 - val_binary_accuracy: 0.8799\n",
            "Epoch 179/500\n",
            "1423/1423 - 4s - loss: 0.2087 - binary_accuracy: 0.9181 - val_loss: 0.3575 - val_binary_accuracy: 0.8772\n",
            "Epoch 180/500\n",
            "1423/1423 - 4s - loss: 0.2087 - binary_accuracy: 0.9181 - val_loss: 0.3533 - val_binary_accuracy: 0.8799\n",
            "Epoch 181/500\n",
            "1423/1423 - 4s - loss: 0.2086 - binary_accuracy: 0.9180 - val_loss: 0.3425 - val_binary_accuracy: 0.8846\n",
            "Epoch 182/500\n",
            "1423/1423 - 4s - loss: 0.2087 - binary_accuracy: 0.9182 - val_loss: 0.3534 - val_binary_accuracy: 0.8790\n",
            "Epoch 183/500\n",
            "1423/1423 - 4s - loss: 0.2086 - binary_accuracy: 0.9182 - val_loss: 0.3358 - val_binary_accuracy: 0.8872\n",
            "Epoch 184/500\n",
            "1423/1423 - 4s - loss: 0.2086 - binary_accuracy: 0.9182 - val_loss: 0.3449 - val_binary_accuracy: 0.8823\n",
            "Epoch 185/500\n",
            "1423/1423 - 4s - loss: 0.2086 - binary_accuracy: 0.9181 - val_loss: 0.3443 - val_binary_accuracy: 0.8828\n",
            "Epoch 186/500\n",
            "1423/1423 - 4s - loss: 0.2085 - binary_accuracy: 0.9181 - val_loss: 0.3333 - val_binary_accuracy: 0.8880\n",
            "Epoch 187/500\n",
            "1423/1423 - 4s - loss: 0.2085 - binary_accuracy: 0.9182 - val_loss: 0.3432 - val_binary_accuracy: 0.8838\n",
            "Epoch 188/500\n",
            "1423/1423 - 4s - loss: 0.2085 - binary_accuracy: 0.9181 - val_loss: 0.3497 - val_binary_accuracy: 0.8805\n",
            "Epoch 189/500\n",
            "1423/1423 - 4s - loss: 0.2085 - binary_accuracy: 0.9183 - val_loss: 0.3556 - val_binary_accuracy: 0.8786\n",
            "Epoch 190/500\n",
            "1423/1423 - 4s - loss: 0.2084 - binary_accuracy: 0.9182 - val_loss: 0.3440 - val_binary_accuracy: 0.8835\n",
            "Epoch 191/500\n",
            "1423/1423 - 4s - loss: 0.2084 - binary_accuracy: 0.9183 - val_loss: 0.3541 - val_binary_accuracy: 0.8792\n",
            "Epoch 192/500\n",
            "1423/1423 - 4s - loss: 0.2084 - binary_accuracy: 0.9181 - val_loss: 0.3456 - val_binary_accuracy: 0.8826\n",
            "Epoch 193/500\n",
            "1423/1423 - 4s - loss: 0.2084 - binary_accuracy: 0.9181 - val_loss: 0.3568 - val_binary_accuracy: 0.8778\n",
            "Epoch 194/500\n",
            "1423/1423 - 4s - loss: 0.2083 - binary_accuracy: 0.9182 - val_loss: 0.3419 - val_binary_accuracy: 0.8841\n",
            "Epoch 195/500\n",
            "1423/1423 - 4s - loss: 0.2083 - binary_accuracy: 0.9183 - val_loss: 0.3480 - val_binary_accuracy: 0.8814\n",
            "Epoch 196/500\n",
            "1423/1423 - 4s - loss: 0.2083 - binary_accuracy: 0.9182 - val_loss: 0.3525 - val_binary_accuracy: 0.8798\n",
            "Epoch 197/500\n",
            "1423/1423 - 4s - loss: 0.2083 - binary_accuracy: 0.9182 - val_loss: 0.3461 - val_binary_accuracy: 0.8829\n",
            "Epoch 198/500\n",
            "1423/1423 - 4s - loss: 0.2083 - binary_accuracy: 0.9181 - val_loss: 0.3492 - val_binary_accuracy: 0.8810\n",
            "Epoch 199/500\n",
            "1423/1423 - 4s - loss: 0.2082 - binary_accuracy: 0.9184 - val_loss: 0.3530 - val_binary_accuracy: 0.8794\n",
            "Epoch 200/500\n",
            "1423/1423 - 4s - loss: 0.2082 - binary_accuracy: 0.9183 - val_loss: 0.3462 - val_binary_accuracy: 0.8822\n",
            "Epoch 201/500\n",
            "1423/1423 - 4s - loss: 0.2082 - binary_accuracy: 0.9184 - val_loss: 0.3408 - val_binary_accuracy: 0.8851\n",
            "Epoch 202/500\n",
            "1423/1423 - 4s - loss: 0.2081 - binary_accuracy: 0.9182 - val_loss: 0.3456 - val_binary_accuracy: 0.8827\n",
            "Epoch 203/500\n",
            "1423/1423 - 4s - loss: 0.2081 - binary_accuracy: 0.9184 - val_loss: 0.3564 - val_binary_accuracy: 0.8781\n",
            "Epoch 204/500\n",
            "1423/1423 - 4s - loss: 0.2081 - binary_accuracy: 0.9183 - val_loss: 0.3198 - val_binary_accuracy: 0.8942\n",
            "Epoch 205/500\n",
            "1423/1423 - 4s - loss: 0.2081 - binary_accuracy: 0.9185 - val_loss: 0.3513 - val_binary_accuracy: 0.8809\n",
            "Epoch 206/500\n",
            "1423/1423 - 4s - loss: 0.2080 - binary_accuracy: 0.9183 - val_loss: 0.3527 - val_binary_accuracy: 0.8798\n",
            "Epoch 207/500\n",
            "1423/1423 - 4s - loss: 0.2080 - binary_accuracy: 0.9183 - val_loss: 0.3594 - val_binary_accuracy: 0.8765\n",
            "Epoch 208/500\n",
            "1423/1423 - 4s - loss: 0.2080 - binary_accuracy: 0.9183 - val_loss: 0.3322 - val_binary_accuracy: 0.8890\n",
            "Epoch 209/500\n",
            "1423/1423 - 4s - loss: 0.2080 - binary_accuracy: 0.9185 - val_loss: 0.3475 - val_binary_accuracy: 0.8816\n",
            "Epoch 210/500\n",
            "1423/1423 - 4s - loss: 0.2080 - binary_accuracy: 0.9184 - val_loss: 0.3393 - val_binary_accuracy: 0.8855\n",
            "Epoch 211/500\n",
            "1423/1423 - 4s - loss: 0.2079 - binary_accuracy: 0.9185 - val_loss: 0.3517 - val_binary_accuracy: 0.8797\n",
            "Epoch 212/500\n",
            "1423/1423 - 4s - loss: 0.2079 - binary_accuracy: 0.9186 - val_loss: 0.3455 - val_binary_accuracy: 0.8826\n",
            "Epoch 213/500\n",
            "1423/1423 - 4s - loss: 0.2079 - binary_accuracy: 0.9184 - val_loss: 0.3464 - val_binary_accuracy: 0.8825\n",
            "Epoch 214/500\n",
            "1423/1423 - 4s - loss: 0.2079 - binary_accuracy: 0.9185 - val_loss: 0.3374 - val_binary_accuracy: 0.8858\n",
            "Epoch 215/500\n",
            "1423/1423 - 4s - loss: 0.2078 - binary_accuracy: 0.9184 - val_loss: 0.3466 - val_binary_accuracy: 0.8818\n",
            "Epoch 216/500\n",
            "1423/1423 - 4s - loss: 0.2078 - binary_accuracy: 0.9184 - val_loss: 0.3611 - val_binary_accuracy: 0.8761\n",
            "Epoch 217/500\n",
            "1423/1423 - 4s - loss: 0.2078 - binary_accuracy: 0.9185 - val_loss: 0.3431 - val_binary_accuracy: 0.8836\n",
            "Epoch 218/500\n",
            "1423/1423 - 4s - loss: 0.2078 - binary_accuracy: 0.9186 - val_loss: 0.3432 - val_binary_accuracy: 0.8838\n",
            "Epoch 219/500\n",
            "1423/1423 - 4s - loss: 0.2077 - binary_accuracy: 0.9184 - val_loss: 0.3367 - val_binary_accuracy: 0.8866\n",
            "Epoch 220/500\n",
            "1423/1423 - 4s - loss: 0.2077 - binary_accuracy: 0.9185 - val_loss: 0.3401 - val_binary_accuracy: 0.8845\n",
            "Epoch 221/500\n",
            "1423/1423 - 4s - loss: 0.2077 - binary_accuracy: 0.9186 - val_loss: 0.3436 - val_binary_accuracy: 0.8830\n",
            "Epoch 222/500\n",
            "1423/1423 - 4s - loss: 0.2076 - binary_accuracy: 0.9184 - val_loss: 0.3558 - val_binary_accuracy: 0.8776\n",
            "Epoch 223/500\n",
            "1423/1423 - 4s - loss: 0.2077 - binary_accuracy: 0.9184 - val_loss: 0.3464 - val_binary_accuracy: 0.8816\n",
            "Epoch 224/500\n",
            "1423/1423 - 4s - loss: 0.2076 - binary_accuracy: 0.9184 - val_loss: 0.3535 - val_binary_accuracy: 0.8789\n",
            "Epoch 225/500\n",
            "1423/1423 - 4s - loss: 0.2076 - binary_accuracy: 0.9187 - val_loss: 0.3416 - val_binary_accuracy: 0.8841\n",
            "Epoch 226/500\n",
            "1423/1423 - 4s - loss: 0.2076 - binary_accuracy: 0.9185 - val_loss: 0.3367 - val_binary_accuracy: 0.8867\n",
            "Epoch 227/500\n",
            "1423/1423 - 4s - loss: 0.2075 - binary_accuracy: 0.9186 - val_loss: 0.3546 - val_binary_accuracy: 0.8780\n",
            "Epoch 228/500\n",
            "1423/1423 - 4s - loss: 0.2075 - binary_accuracy: 0.9187 - val_loss: 0.3383 - val_binary_accuracy: 0.8852\n",
            "Epoch 229/500\n",
            "1423/1423 - 4s - loss: 0.2074 - binary_accuracy: 0.9185 - val_loss: 0.3274 - val_binary_accuracy: 0.8905\n",
            "Epoch 230/500\n",
            "1423/1423 - 4s - loss: 0.2074 - binary_accuracy: 0.9188 - val_loss: 0.3289 - val_binary_accuracy: 0.8898\n",
            "Epoch 231/500\n",
            "1423/1423 - 4s - loss: 0.2074 - binary_accuracy: 0.9187 - val_loss: 0.3567 - val_binary_accuracy: 0.8765\n",
            "Epoch 232/500\n",
            "1423/1423 - 4s - loss: 0.2074 - binary_accuracy: 0.9186 - val_loss: 0.3646 - val_binary_accuracy: 0.8734\n",
            "Epoch 233/500\n",
            "1423/1423 - 4s - loss: 0.2074 - binary_accuracy: 0.9187 - val_loss: 0.3475 - val_binary_accuracy: 0.8815\n",
            "Epoch 234/500\n",
            "1423/1423 - 4s - loss: 0.2074 - binary_accuracy: 0.9186 - val_loss: 0.3467 - val_binary_accuracy: 0.8811\n",
            "Epoch 235/500\n",
            "1423/1423 - 4s - loss: 0.2073 - binary_accuracy: 0.9186 - val_loss: 0.3335 - val_binary_accuracy: 0.8875\n",
            "Epoch 236/500\n",
            "1423/1423 - 7s - loss: 0.2073 - binary_accuracy: 0.9188 - val_loss: 0.3564 - val_binary_accuracy: 0.8763\n",
            "Epoch 237/500\n",
            "1423/1423 - 6s - loss: 0.2073 - binary_accuracy: 0.9187 - val_loss: 0.3446 - val_binary_accuracy: 0.8822\n",
            "Epoch 238/500\n",
            "1423/1423 - 4s - loss: 0.2072 - binary_accuracy: 0.9187 - val_loss: 0.3635 - val_binary_accuracy: 0.8727\n",
            "Epoch 239/500\n",
            "1423/1423 - 4s - loss: 0.2072 - binary_accuracy: 0.9187 - val_loss: 0.3470 - val_binary_accuracy: 0.8818\n",
            "Epoch 240/500\n",
            "1423/1423 - 4s - loss: 0.2072 - binary_accuracy: 0.9188 - val_loss: 0.3338 - val_binary_accuracy: 0.8874\n",
            "Epoch 241/500\n",
            "1423/1423 - 4s - loss: 0.2072 - binary_accuracy: 0.9187 - val_loss: 0.3556 - val_binary_accuracy: 0.8765\n",
            "Epoch 242/500\n",
            "1423/1423 - 4s - loss: 0.2072 - binary_accuracy: 0.9188 - val_loss: 0.3423 - val_binary_accuracy: 0.8830\n",
            "Epoch 243/500\n",
            "1423/1423 - 4s - loss: 0.2072 - binary_accuracy: 0.9187 - val_loss: 0.3472 - val_binary_accuracy: 0.8807\n",
            "Epoch 244/500\n",
            "1423/1423 - 5s - loss: 0.2071 - binary_accuracy: 0.9188 - val_loss: 0.3447 - val_binary_accuracy: 0.8811\n",
            "Epoch 245/500\n",
            "1423/1423 - 4s - loss: 0.2071 - binary_accuracy: 0.9188 - val_loss: 0.3401 - val_binary_accuracy: 0.8845\n",
            "Epoch 246/500\n",
            "1423/1423 - 4s - loss: 0.2070 - binary_accuracy: 0.9189 - val_loss: 0.3413 - val_binary_accuracy: 0.8833\n",
            "Epoch 247/500\n",
            "1423/1423 - 4s - loss: 0.2070 - binary_accuracy: 0.9187 - val_loss: 0.3523 - val_binary_accuracy: 0.8781\n",
            "Epoch 248/500\n",
            "1423/1423 - 4s - loss: 0.2070 - binary_accuracy: 0.9188 - val_loss: 0.3315 - val_binary_accuracy: 0.8881\n",
            "Epoch 249/500\n",
            "1423/1423 - 4s - loss: 0.2070 - binary_accuracy: 0.9189 - val_loss: 0.3504 - val_binary_accuracy: 0.8794\n",
            "Epoch 250/500\n",
            "1423/1423 - 4s - loss: 0.2069 - binary_accuracy: 0.9188 - val_loss: 0.3358 - val_binary_accuracy: 0.8849\n",
            "Epoch 251/500\n",
            "1423/1423 - 4s - loss: 0.2069 - binary_accuracy: 0.9190 - val_loss: 0.3363 - val_binary_accuracy: 0.8857\n",
            "Epoch 252/500\n",
            "1423/1423 - 4s - loss: 0.2069 - binary_accuracy: 0.9188 - val_loss: 0.3408 - val_binary_accuracy: 0.8828\n",
            "Epoch 253/500\n",
            "1423/1423 - 4s - loss: 0.2069 - binary_accuracy: 0.9188 - val_loss: 0.3352 - val_binary_accuracy: 0.8862\n",
            "Epoch 254/500\n",
            "1423/1423 - 4s - loss: 0.2068 - binary_accuracy: 0.9188 - val_loss: 0.3426 - val_binary_accuracy: 0.8826\n",
            "Epoch 255/500\n",
            "1423/1423 - 4s - loss: 0.2068 - binary_accuracy: 0.9188 - val_loss: 0.3543 - val_binary_accuracy: 0.8761\n",
            "Epoch 256/500\n",
            "1423/1423 - 4s - loss: 0.2068 - binary_accuracy: 0.9189 - val_loss: 0.3498 - val_binary_accuracy: 0.8783\n",
            "Epoch 257/500\n",
            "1423/1423 - 4s - loss: 0.2067 - binary_accuracy: 0.9189 - val_loss: 0.3508 - val_binary_accuracy: 0.8777\n",
            "Epoch 258/500\n",
            "1423/1423 - 4s - loss: 0.2068 - binary_accuracy: 0.9189 - val_loss: 0.3397 - val_binary_accuracy: 0.8834\n",
            "Epoch 259/500\n",
            "1423/1423 - 4s - loss: 0.2067 - binary_accuracy: 0.9187 - val_loss: 0.3414 - val_binary_accuracy: 0.8814\n",
            "Epoch 260/500\n",
            "1423/1423 - 4s - loss: 0.2067 - binary_accuracy: 0.9189 - val_loss: 0.3551 - val_binary_accuracy: 0.8763\n",
            "Epoch 261/500\n",
            "1423/1423 - 4s - loss: 0.2067 - binary_accuracy: 0.9190 - val_loss: 0.3384 - val_binary_accuracy: 0.8841\n",
            "Epoch 262/500\n",
            "1423/1423 - 4s - loss: 0.2066 - binary_accuracy: 0.9190 - val_loss: 0.3409 - val_binary_accuracy: 0.8820\n",
            "Epoch 263/500\n",
            "1423/1423 - 4s - loss: 0.2066 - binary_accuracy: 0.9188 - val_loss: 0.3397 - val_binary_accuracy: 0.8821\n",
            "Epoch 264/500\n",
            "1423/1423 - 4s - loss: 0.2066 - binary_accuracy: 0.9188 - val_loss: 0.3383 - val_binary_accuracy: 0.8830\n",
            "Epoch 265/500\n",
            "1423/1423 - 4s - loss: 0.2066 - binary_accuracy: 0.9189 - val_loss: 0.3456 - val_binary_accuracy: 0.8801\n",
            "Epoch 266/500\n",
            "1423/1423 - 4s - loss: 0.2065 - binary_accuracy: 0.9189 - val_loss: 0.3467 - val_binary_accuracy: 0.8789\n",
            "Epoch 267/500\n",
            "1423/1423 - 4s - loss: 0.2065 - binary_accuracy: 0.9190 - val_loss: 0.3495 - val_binary_accuracy: 0.8778\n",
            "Epoch 268/500\n",
            "1423/1423 - 4s - loss: 0.2065 - binary_accuracy: 0.9190 - val_loss: 0.3510 - val_binary_accuracy: 0.8771\n",
            "Epoch 269/500\n",
            "1423/1423 - 4s - loss: 0.2065 - binary_accuracy: 0.9189 - val_loss: 0.3335 - val_binary_accuracy: 0.8857\n",
            "Epoch 270/500\n",
            "1423/1423 - 4s - loss: 0.2064 - binary_accuracy: 0.9189 - val_loss: 0.3370 - val_binary_accuracy: 0.8834\n",
            "Epoch 271/500\n",
            "1423/1423 - 4s - loss: 0.2064 - binary_accuracy: 0.9189 - val_loss: 0.3323 - val_binary_accuracy: 0.8858\n",
            "Epoch 272/500\n",
            "1423/1423 - 4s - loss: 0.2064 - binary_accuracy: 0.9190 - val_loss: 0.3338 - val_binary_accuracy: 0.8849\n",
            "Epoch 273/500\n",
            "1423/1423 - 4s - loss: 0.2064 - binary_accuracy: 0.9190 - val_loss: 0.3371 - val_binary_accuracy: 0.8837\n",
            "Epoch 274/500\n",
            "1423/1423 - 4s - loss: 0.2063 - binary_accuracy: 0.9190 - val_loss: 0.3458 - val_binary_accuracy: 0.8794\n",
            "Epoch 275/500\n",
            "1423/1423 - 4s - loss: 0.2063 - binary_accuracy: 0.9188 - val_loss: 0.3470 - val_binary_accuracy: 0.8786\n",
            "Epoch 276/500\n",
            "1423/1423 - 4s - loss: 0.2063 - binary_accuracy: 0.9189 - val_loss: 0.3440 - val_binary_accuracy: 0.8800\n",
            "Epoch 277/500\n",
            "1423/1423 - 4s - loss: 0.2063 - binary_accuracy: 0.9188 - val_loss: 0.3386 - val_binary_accuracy: 0.8828\n",
            "Epoch 278/500\n",
            "1423/1423 - 4s - loss: 0.2062 - binary_accuracy: 0.9189 - val_loss: 0.3497 - val_binary_accuracy: 0.8773\n",
            "Epoch 279/500\n",
            "1423/1423 - 4s - loss: 0.2062 - binary_accuracy: 0.9189 - val_loss: 0.3395 - val_binary_accuracy: 0.8819\n",
            "Epoch 280/500\n",
            "1423/1423 - 4s - loss: 0.2062 - binary_accuracy: 0.9190 - val_loss: 0.3434 - val_binary_accuracy: 0.8801\n",
            "Epoch 281/500\n",
            "1423/1423 - 4s - loss: 0.2062 - binary_accuracy: 0.9189 - val_loss: 0.3575 - val_binary_accuracy: 0.8739\n",
            "Epoch 282/500\n",
            "1423/1423 - 4s - loss: 0.2061 - binary_accuracy: 0.9190 - val_loss: 0.3292 - val_binary_accuracy: 0.8870\n",
            "Epoch 283/500\n",
            "1423/1423 - 4s - loss: 0.2061 - binary_accuracy: 0.9188 - val_loss: 0.3363 - val_binary_accuracy: 0.8828\n",
            "Epoch 284/500\n",
            "1423/1423 - 4s - loss: 0.2061 - binary_accuracy: 0.9189 - val_loss: 0.3629 - val_binary_accuracy: 0.8724\n",
            "Epoch 285/500\n",
            "1423/1423 - 4s - loss: 0.2061 - binary_accuracy: 0.9190 - val_loss: 0.3501 - val_binary_accuracy: 0.8762\n",
            "Epoch 286/500\n",
            "1423/1423 - 4s - loss: 0.2060 - binary_accuracy: 0.9189 - val_loss: 0.3421 - val_binary_accuracy: 0.8808\n",
            "Epoch 287/500\n",
            "1423/1423 - 4s - loss: 0.2060 - binary_accuracy: 0.9189 - val_loss: 0.3338 - val_binary_accuracy: 0.8842\n",
            "Epoch 288/500\n",
            "1423/1423 - 4s - loss: 0.2060 - binary_accuracy: 0.9189 - val_loss: 0.3451 - val_binary_accuracy: 0.8791\n",
            "Epoch 289/500\n",
            "1423/1423 - 4s - loss: 0.2060 - binary_accuracy: 0.9190 - val_loss: 0.3345 - val_binary_accuracy: 0.8838\n",
            "Epoch 290/500\n",
            "1423/1423 - 4s - loss: 0.2059 - binary_accuracy: 0.9190 - val_loss: 0.3376 - val_binary_accuracy: 0.8824\n",
            "Epoch 291/500\n",
            "1423/1423 - 4s - loss: 0.2059 - binary_accuracy: 0.9191 - val_loss: 0.3414 - val_binary_accuracy: 0.8808\n",
            "Epoch 292/500\n",
            "1423/1423 - 4s - loss: 0.2059 - binary_accuracy: 0.9191 - val_loss: 0.3305 - val_binary_accuracy: 0.8858\n",
            "Epoch 293/500\n",
            "1423/1423 - 4s - loss: 0.2059 - binary_accuracy: 0.9190 - val_loss: 0.3552 - val_binary_accuracy: 0.8755\n",
            "Epoch 294/500\n",
            "1423/1423 - 4s - loss: 0.2059 - binary_accuracy: 0.9190 - val_loss: 0.3342 - val_binary_accuracy: 0.8842\n",
            "Epoch 295/500\n",
            "1423/1423 - 4s - loss: 0.2058 - binary_accuracy: 0.9189 - val_loss: 0.3342 - val_binary_accuracy: 0.8842\n",
            "Epoch 296/500\n",
            "1423/1423 - 4s - loss: 0.2058 - binary_accuracy: 0.9188 - val_loss: 0.3485 - val_binary_accuracy: 0.8775\n",
            "Epoch 297/500\n",
            "1423/1423 - 4s - loss: 0.2058 - binary_accuracy: 0.9190 - val_loss: 0.3465 - val_binary_accuracy: 0.8786\n",
            "Epoch 298/500\n",
            "1423/1423 - 4s - loss: 0.2058 - binary_accuracy: 0.9191 - val_loss: 0.3494 - val_binary_accuracy: 0.8772\n",
            "Epoch 299/500\n",
            "1423/1423 - 4s - loss: 0.2057 - binary_accuracy: 0.9190 - val_loss: 0.3470 - val_binary_accuracy: 0.8782\n",
            "Epoch 300/500\n",
            "1423/1423 - 4s - loss: 0.2057 - binary_accuracy: 0.9190 - val_loss: 0.3531 - val_binary_accuracy: 0.8755\n",
            "Epoch 301/500\n",
            "1423/1423 - 4s - loss: 0.2057 - binary_accuracy: 0.9193 - val_loss: 0.3489 - val_binary_accuracy: 0.8773\n",
            "Epoch 302/500\n",
            "1423/1423 - 4s - loss: 0.2057 - binary_accuracy: 0.9190 - val_loss: 0.3378 - val_binary_accuracy: 0.8825\n",
            "Epoch 303/500\n",
            "1423/1423 - 4s - loss: 0.2057 - binary_accuracy: 0.9189 - val_loss: 0.3420 - val_binary_accuracy: 0.8802\n",
            "Epoch 304/500\n",
            "1423/1423 - 4s - loss: 0.2057 - binary_accuracy: 0.9191 - val_loss: 0.3378 - val_binary_accuracy: 0.8821\n",
            "Epoch 305/500\n",
            "1423/1423 - 4s - loss: 0.2056 - binary_accuracy: 0.9192 - val_loss: 0.3460 - val_binary_accuracy: 0.8786\n",
            "Epoch 306/500\n",
            "1423/1423 - 4s - loss: 0.2056 - binary_accuracy: 0.9191 - val_loss: 0.3301 - val_binary_accuracy: 0.8863\n",
            "Epoch 307/500\n",
            "1423/1423 - 4s - loss: 0.2056 - binary_accuracy: 0.9190 - val_loss: 0.3353 - val_binary_accuracy: 0.8834\n",
            "Epoch 308/500\n",
            "1423/1423 - 4s - loss: 0.2056 - binary_accuracy: 0.9191 - val_loss: 0.3323 - val_binary_accuracy: 0.8853\n",
            "Epoch 309/500\n",
            "1423/1423 - 4s - loss: 0.2055 - binary_accuracy: 0.9191 - val_loss: 0.3520 - val_binary_accuracy: 0.8759\n",
            "Epoch 310/500\n",
            "1423/1423 - 4s - loss: 0.2055 - binary_accuracy: 0.9190 - val_loss: 0.3267 - val_binary_accuracy: 0.8871\n",
            "Epoch 311/500\n",
            "1423/1423 - 4s - loss: 0.2055 - binary_accuracy: 0.9191 - val_loss: 0.3212 - val_binary_accuracy: 0.8911\n",
            "Epoch 312/500\n",
            "1423/1423 - 4s - loss: 0.2055 - binary_accuracy: 0.9191 - val_loss: 0.3415 - val_binary_accuracy: 0.8804\n",
            "Epoch 313/500\n",
            "1423/1423 - 4s - loss: 0.2055 - binary_accuracy: 0.9192 - val_loss: 0.3400 - val_binary_accuracy: 0.8809\n",
            "Epoch 314/500\n",
            "1423/1423 - 4s - loss: 0.2055 - binary_accuracy: 0.9190 - val_loss: 0.3608 - val_binary_accuracy: 0.8732\n",
            "Epoch 315/500\n",
            "1423/1423 - 4s - loss: 0.2054 - binary_accuracy: 0.9189 - val_loss: 0.3473 - val_binary_accuracy: 0.8781\n",
            "Epoch 316/500\n",
            "1423/1423 - 4s - loss: 0.2054 - binary_accuracy: 0.9190 - val_loss: 0.3405 - val_binary_accuracy: 0.8812\n",
            "Epoch 317/500\n",
            "1423/1423 - 4s - loss: 0.2054 - binary_accuracy: 0.9191 - val_loss: 0.3466 - val_binary_accuracy: 0.8783\n",
            "Epoch 318/500\n",
            "1423/1423 - 4s - loss: 0.2054 - binary_accuracy: 0.9192 - val_loss: 0.3432 - val_binary_accuracy: 0.8794\n",
            "Epoch 319/500\n",
            "1423/1423 - 4s - loss: 0.2054 - binary_accuracy: 0.9191 - val_loss: 0.3371 - val_binary_accuracy: 0.8824\n",
            "Epoch 320/500\n",
            "1423/1423 - 4s - loss: 0.2053 - binary_accuracy: 0.9192 - val_loss: 0.3324 - val_binary_accuracy: 0.8838\n",
            "Epoch 321/500\n",
            "1423/1423 - 4s - loss: 0.2053 - binary_accuracy: 0.9191 - val_loss: 0.3417 - val_binary_accuracy: 0.8806\n",
            "Epoch 322/500\n",
            "1423/1423 - 4s - loss: 0.2053 - binary_accuracy: 0.9190 - val_loss: 0.3568 - val_binary_accuracy: 0.8746\n",
            "Epoch 323/500\n",
            "1423/1423 - 4s - loss: 0.2053 - binary_accuracy: 0.9192 - val_loss: 0.3414 - val_binary_accuracy: 0.8805\n",
            "Epoch 324/500\n",
            "1423/1423 - 4s - loss: 0.2053 - binary_accuracy: 0.9191 - val_loss: 0.3349 - val_binary_accuracy: 0.8829\n",
            "Epoch 325/500\n",
            "1423/1423 - 4s - loss: 0.2052 - binary_accuracy: 0.9190 - val_loss: 0.3376 - val_binary_accuracy: 0.8816\n",
            "Epoch 326/500\n",
            "1423/1423 - 4s - loss: 0.2052 - binary_accuracy: 0.9190 - val_loss: 0.3432 - val_binary_accuracy: 0.8799\n",
            "Epoch 327/500\n",
            "1423/1423 - 4s - loss: 0.2052 - binary_accuracy: 0.9192 - val_loss: 0.3484 - val_binary_accuracy: 0.8775\n",
            "Epoch 328/500\n",
            "1423/1423 - 4s - loss: 0.2052 - binary_accuracy: 0.9191 - val_loss: 0.3377 - val_binary_accuracy: 0.8816\n",
            "Epoch 329/500\n",
            "1423/1423 - 4s - loss: 0.2052 - binary_accuracy: 0.9191 - val_loss: 0.3283 - val_binary_accuracy: 0.8864\n",
            "Epoch 330/500\n",
            "1423/1423 - 4s - loss: 0.2051 - binary_accuracy: 0.9192 - val_loss: 0.3383 - val_binary_accuracy: 0.8817\n",
            "Epoch 331/500\n",
            "1423/1423 - 4s - loss: 0.2051 - binary_accuracy: 0.9192 - val_loss: 0.3667 - val_binary_accuracy: 0.8709\n",
            "Epoch 332/500\n",
            "1423/1423 - 4s - loss: 0.2052 - binary_accuracy: 0.9190 - val_loss: 0.3421 - val_binary_accuracy: 0.8798\n",
            "Epoch 333/500\n",
            "1423/1423 - 4s - loss: 0.2051 - binary_accuracy: 0.9191 - val_loss: 0.3265 - val_binary_accuracy: 0.8869\n",
            "Epoch 334/500\n",
            "1423/1423 - 4s - loss: 0.2051 - binary_accuracy: 0.9191 - val_loss: 0.3472 - val_binary_accuracy: 0.8783\n",
            "Epoch 335/500\n",
            "1423/1423 - 4s - loss: 0.2051 - binary_accuracy: 0.9191 - val_loss: 0.3641 - val_binary_accuracy: 0.8721\n",
            "Epoch 336/500\n",
            "1423/1423 - 4s - loss: 0.2051 - binary_accuracy: 0.9192 - val_loss: 0.3496 - val_binary_accuracy: 0.8771\n",
            "Epoch 337/500\n",
            "1423/1423 - 4s - loss: 0.2050 - binary_accuracy: 0.9191 - val_loss: 0.3368 - val_binary_accuracy: 0.8820\n",
            "Epoch 338/500\n",
            "1423/1423 - 4s - loss: 0.2050 - binary_accuracy: 0.9192 - val_loss: 0.3556 - val_binary_accuracy: 0.8752\n",
            "Epoch 339/500\n",
            "1423/1423 - 4s - loss: 0.2050 - binary_accuracy: 0.9192 - val_loss: 0.3410 - val_binary_accuracy: 0.8798\n",
            "Epoch 340/500\n",
            "1423/1423 - 4s - loss: 0.2050 - binary_accuracy: 0.9191 - val_loss: 0.3377 - val_binary_accuracy: 0.8815\n",
            "Epoch 341/500\n",
            "1423/1423 - 4s - loss: 0.2049 - binary_accuracy: 0.9192 - val_loss: 0.3561 - val_binary_accuracy: 0.8749\n",
            "Epoch 342/500\n",
            "1423/1423 - 4s - loss: 0.2050 - binary_accuracy: 0.9190 - val_loss: 0.3303 - val_binary_accuracy: 0.8853\n",
            "Epoch 343/500\n",
            "1423/1423 - 4s - loss: 0.2049 - binary_accuracy: 0.9191 - val_loss: 0.3371 - val_binary_accuracy: 0.8819\n",
            "Epoch 344/500\n",
            "1423/1423 - 4s - loss: 0.2049 - binary_accuracy: 0.9192 - val_loss: 0.3470 - val_binary_accuracy: 0.8781\n",
            "Epoch 345/500\n",
            "1423/1423 - 4s - loss: 0.2049 - binary_accuracy: 0.9191 - val_loss: 0.3259 - val_binary_accuracy: 0.8871\n",
            "Epoch 346/500\n",
            "1423/1423 - 4s - loss: 0.2049 - binary_accuracy: 0.9191 - val_loss: 0.3511 - val_binary_accuracy: 0.8762\n",
            "Epoch 347/500\n",
            "1423/1423 - 4s - loss: 0.2049 - binary_accuracy: 0.9192 - val_loss: 0.3484 - val_binary_accuracy: 0.8773\n",
            "Epoch 348/500\n",
            "1423/1423 - 4s - loss: 0.2048 - binary_accuracy: 0.9191 - val_loss: 0.3541 - val_binary_accuracy: 0.8755\n",
            "Epoch 349/500\n",
            "1423/1423 - 4s - loss: 0.2048 - binary_accuracy: 0.9190 - val_loss: 0.3406 - val_binary_accuracy: 0.8806\n",
            "Epoch 350/500\n",
            "1423/1423 - 4s - loss: 0.2048 - binary_accuracy: 0.9191 - val_loss: 0.3395 - val_binary_accuracy: 0.8812\n",
            "Epoch 351/500\n",
            "1423/1423 - 4s - loss: 0.2048 - binary_accuracy: 0.9191 - val_loss: 0.3249 - val_binary_accuracy: 0.8879\n",
            "Epoch 352/500\n",
            "1423/1423 - 4s - loss: 0.2048 - binary_accuracy: 0.9192 - val_loss: 0.3442 - val_binary_accuracy: 0.8789\n",
            "Epoch 353/500\n",
            "1423/1423 - 4s - loss: 0.2048 - binary_accuracy: 0.9191 - val_loss: 0.3358 - val_binary_accuracy: 0.8824\n",
            "Epoch 354/500\n",
            "1423/1423 - 4s - loss: 0.2048 - binary_accuracy: 0.9192 - val_loss: 0.3603 - val_binary_accuracy: 0.8729\n",
            "Epoch 355/500\n",
            "1423/1423 - 4s - loss: 0.2048 - binary_accuracy: 0.9192 - val_loss: 0.3474 - val_binary_accuracy: 0.8778\n",
            "Epoch 356/500\n",
            "1423/1423 - 4s - loss: 0.2047 - binary_accuracy: 0.9191 - val_loss: 0.3263 - val_binary_accuracy: 0.8875\n",
            "Epoch 357/500\n",
            "1423/1423 - 4s - loss: 0.2047 - binary_accuracy: 0.9191 - val_loss: 0.3479 - val_binary_accuracy: 0.8775\n",
            "Epoch 358/500\n",
            "1423/1423 - 4s - loss: 0.2047 - binary_accuracy: 0.9190 - val_loss: 0.3327 - val_binary_accuracy: 0.8835\n",
            "Epoch 359/500\n",
            "1423/1423 - 4s - loss: 0.2047 - binary_accuracy: 0.9192 - val_loss: 0.3376 - val_binary_accuracy: 0.8815\n",
            "Epoch 360/500\n",
            "1423/1423 - 4s - loss: 0.2046 - binary_accuracy: 0.9191 - val_loss: 0.3370 - val_binary_accuracy: 0.8816\n",
            "Epoch 361/500\n",
            "1423/1423 - 4s - loss: 0.2046 - binary_accuracy: 0.9191 - val_loss: 0.3486 - val_binary_accuracy: 0.8776\n",
            "Epoch 362/500\n",
            "1423/1423 - 4s - loss: 0.2046 - binary_accuracy: 0.9191 - val_loss: 0.3359 - val_binary_accuracy: 0.8831\n",
            "Epoch 363/500\n",
            "1423/1423 - 4s - loss: 0.2046 - binary_accuracy: 0.9191 - val_loss: 0.3376 - val_binary_accuracy: 0.8818\n",
            "Epoch 364/500\n",
            "1423/1423 - 4s - loss: 0.2046 - binary_accuracy: 0.9191 - val_loss: 0.3409 - val_binary_accuracy: 0.8801\n",
            "Epoch 365/500\n",
            "1423/1423 - 4s - loss: 0.2046 - binary_accuracy: 0.9191 - val_loss: 0.3445 - val_binary_accuracy: 0.8788\n",
            "Epoch 366/500\n",
            "1423/1423 - 4s - loss: 0.2046 - binary_accuracy: 0.9191 - val_loss: 0.3196 - val_binary_accuracy: 0.8894\n",
            "Epoch 367/500\n",
            "1423/1423 - 4s - loss: 0.2046 - binary_accuracy: 0.9191 - val_loss: 0.3372 - val_binary_accuracy: 0.8818\n",
            "Epoch 368/500\n",
            "1423/1423 - 4s - loss: 0.2045 - binary_accuracy: 0.9192 - val_loss: 0.3373 - val_binary_accuracy: 0.8821\n",
            "Epoch 369/500\n",
            "1423/1423 - 4s - loss: 0.2045 - binary_accuracy: 0.9193 - val_loss: 0.3528 - val_binary_accuracy: 0.8763\n",
            "Epoch 370/500\n",
            "1423/1423 - 4s - loss: 0.2045 - binary_accuracy: 0.9192 - val_loss: 0.3408 - val_binary_accuracy: 0.8807\n",
            "Epoch 371/500\n",
            "1423/1423 - 4s - loss: 0.2045 - binary_accuracy: 0.9192 - val_loss: 0.3362 - val_binary_accuracy: 0.8823\n",
            "Epoch 372/500\n",
            "1423/1423 - 4s - loss: 0.2045 - binary_accuracy: 0.9191 - val_loss: 0.3435 - val_binary_accuracy: 0.8791\n",
            "Epoch 373/500\n",
            "1423/1423 - 4s - loss: 0.2045 - binary_accuracy: 0.9190 - val_loss: 0.3197 - val_binary_accuracy: 0.8896\n",
            "Epoch 374/500\n",
            "1423/1423 - 4s - loss: 0.2044 - binary_accuracy: 0.9192 - val_loss: 0.3471 - val_binary_accuracy: 0.8777\n",
            "Epoch 375/500\n",
            "1423/1423 - 4s - loss: 0.2044 - binary_accuracy: 0.9193 - val_loss: 0.3230 - val_binary_accuracy: 0.8879\n",
            "Epoch 376/500\n",
            "1423/1423 - 4s - loss: 0.2044 - binary_accuracy: 0.9191 - val_loss: 0.3296 - val_binary_accuracy: 0.8849\n",
            "Epoch 377/500\n",
            "1423/1423 - 4s - loss: 0.2044 - binary_accuracy: 0.9192 - val_loss: 0.3491 - val_binary_accuracy: 0.8770\n",
            "Epoch 378/500\n",
            "1423/1423 - 4s - loss: 0.2044 - binary_accuracy: 0.9192 - val_loss: 0.3367 - val_binary_accuracy: 0.8822\n",
            "Epoch 379/500\n",
            "1423/1423 - 4s - loss: 0.2044 - binary_accuracy: 0.9191 - val_loss: 0.3373 - val_binary_accuracy: 0.8816\n",
            "Epoch 380/500\n",
            "1423/1423 - 4s - loss: 0.2043 - binary_accuracy: 0.9193 - val_loss: 0.3302 - val_binary_accuracy: 0.8850\n",
            "Epoch 381/500\n",
            "1423/1423 - 4s - loss: 0.2043 - binary_accuracy: 0.9192 - val_loss: 0.3446 - val_binary_accuracy: 0.8792\n",
            "Epoch 382/500\n",
            "1423/1423 - 4s - loss: 0.2043 - binary_accuracy: 0.9191 - val_loss: 0.3465 - val_binary_accuracy: 0.8782\n",
            "Epoch 383/500\n",
            "1423/1423 - 5s - loss: 0.2043 - binary_accuracy: 0.9192 - val_loss: 0.3419 - val_binary_accuracy: 0.8802\n",
            "Epoch 384/500\n",
            "1423/1423 - 7s - loss: 0.2043 - binary_accuracy: 0.9192 - val_loss: 0.3404 - val_binary_accuracy: 0.8805\n",
            "Epoch 385/500\n",
            "1423/1423 - 5s - loss: 0.2043 - binary_accuracy: 0.9193 - val_loss: 0.3353 - val_binary_accuracy: 0.8833\n",
            "Epoch 386/500\n",
            "1423/1423 - 4s - loss: 0.2042 - binary_accuracy: 0.9193 - val_loss: 0.3345 - val_binary_accuracy: 0.8838\n",
            "Epoch 387/500\n",
            "1423/1423 - 4s - loss: 0.2043 - binary_accuracy: 0.9192 - val_loss: 0.3406 - val_binary_accuracy: 0.8799\n",
            "Epoch 388/500\n",
            "1423/1423 - 4s - loss: 0.2042 - binary_accuracy: 0.9192 - val_loss: 0.3332 - val_binary_accuracy: 0.8841\n",
            "Epoch 389/500\n",
            "1423/1423 - 4s - loss: 0.2042 - binary_accuracy: 0.9192 - val_loss: 0.3385 - val_binary_accuracy: 0.8808\n",
            "Epoch 390/500\n",
            "1423/1423 - 4s - loss: 0.2042 - binary_accuracy: 0.9193 - val_loss: 0.3343 - val_binary_accuracy: 0.8833\n",
            "Epoch 391/500\n",
            "1423/1423 - 4s - loss: 0.2042 - binary_accuracy: 0.9191 - val_loss: 0.3470 - val_binary_accuracy: 0.8777\n",
            "Epoch 392/500\n",
            "1423/1423 - 4s - loss: 0.2042 - binary_accuracy: 0.9191 - val_loss: 0.3457 - val_binary_accuracy: 0.8787\n",
            "Epoch 393/500\n",
            "1423/1423 - 4s - loss: 0.2041 - binary_accuracy: 0.9192 - val_loss: 0.3422 - val_binary_accuracy: 0.8798\n",
            "Epoch 394/500\n",
            "1423/1423 - 5s - loss: 0.2041 - binary_accuracy: 0.9194 - val_loss: 0.3409 - val_binary_accuracy: 0.8799\n",
            "Epoch 395/500\n",
            "1423/1423 - 5s - loss: 0.2041 - binary_accuracy: 0.9192 - val_loss: 0.3422 - val_binary_accuracy: 0.8796\n",
            "Epoch 396/500\n",
            "1423/1423 - 4s - loss: 0.2041 - binary_accuracy: 0.9192 - val_loss: 0.3228 - val_binary_accuracy: 0.8883\n",
            "Epoch 397/500\n",
            "1423/1423 - 4s - loss: 0.2041 - binary_accuracy: 0.9192 - val_loss: 0.3197 - val_binary_accuracy: 0.8893\n",
            "Epoch 398/500\n",
            "1423/1423 - 4s - loss: 0.2041 - binary_accuracy: 0.9193 - val_loss: 0.3356 - val_binary_accuracy: 0.8825\n",
            "Epoch 399/500\n",
            "1423/1423 - 4s - loss: 0.2041 - binary_accuracy: 0.9192 - val_loss: 0.3321 - val_binary_accuracy: 0.8845\n",
            "Epoch 400/500\n",
            "1423/1423 - 4s - loss: 0.2041 - binary_accuracy: 0.9193 - val_loss: 0.3332 - val_binary_accuracy: 0.8839\n",
            "Epoch 401/500\n",
            "1423/1423 - 4s - loss: 0.2040 - binary_accuracy: 0.9193 - val_loss: 0.3411 - val_binary_accuracy: 0.8803\n",
            "Epoch 402/500\n",
            "1423/1423 - 4s - loss: 0.2040 - binary_accuracy: 0.9192 - val_loss: 0.3380 - val_binary_accuracy: 0.8814\n",
            "Epoch 403/500\n",
            "1423/1423 - 4s - loss: 0.2040 - binary_accuracy: 0.9193 - val_loss: 0.3445 - val_binary_accuracy: 0.8787\n",
            "Epoch 404/500\n",
            "1423/1423 - 4s - loss: 0.2040 - binary_accuracy: 0.9192 - val_loss: 0.3352 - val_binary_accuracy: 0.8830\n",
            "Epoch 405/500\n",
            "1423/1423 - 4s - loss: 0.2039 - binary_accuracy: 0.9192 - val_loss: 0.3277 - val_binary_accuracy: 0.8856\n",
            "Epoch 406/500\n",
            "1423/1423 - 4s - loss: 0.2040 - binary_accuracy: 0.9193 - val_loss: 0.3336 - val_binary_accuracy: 0.8835\n",
            "Epoch 407/500\n",
            "1423/1423 - 4s - loss: 0.2039 - binary_accuracy: 0.9192 - val_loss: 0.3323 - val_binary_accuracy: 0.8842\n",
            "Epoch 408/500\n",
            "1423/1423 - 4s - loss: 0.2039 - binary_accuracy: 0.9194 - val_loss: 0.3428 - val_binary_accuracy: 0.8795\n",
            "Epoch 409/500\n",
            "1423/1423 - 4s - loss: 0.2039 - binary_accuracy: 0.9193 - val_loss: 0.3475 - val_binary_accuracy: 0.8780\n",
            "Epoch 410/500\n",
            "1423/1423 - 4s - loss: 0.2039 - binary_accuracy: 0.9192 - val_loss: 0.3399 - val_binary_accuracy: 0.8805\n",
            "Epoch 411/500\n",
            "1423/1423 - 4s - loss: 0.2039 - binary_accuracy: 0.9193 - val_loss: 0.3267 - val_binary_accuracy: 0.8860\n",
            "Epoch 412/500\n",
            "1423/1423 - 4s - loss: 0.2038 - binary_accuracy: 0.9193 - val_loss: 0.3163 - val_binary_accuracy: 0.8905\n",
            "Epoch 413/500\n",
            "1423/1423 - 4s - loss: 0.2038 - binary_accuracy: 0.9192 - val_loss: 0.3482 - val_binary_accuracy: 0.8778\n",
            "Epoch 414/500\n",
            "1423/1423 - 4s - loss: 0.2038 - binary_accuracy: 0.9193 - val_loss: 0.3335 - val_binary_accuracy: 0.8835\n",
            "Epoch 415/500\n",
            "1423/1423 - 4s - loss: 0.2038 - binary_accuracy: 0.9191 - val_loss: 0.3481 - val_binary_accuracy: 0.8778\n",
            "Epoch 416/500\n",
            "1423/1423 - 4s - loss: 0.2038 - binary_accuracy: 0.9193 - val_loss: 0.3469 - val_binary_accuracy: 0.8784\n",
            "Epoch 417/500\n",
            "1423/1423 - 4s - loss: 0.2038 - binary_accuracy: 0.9193 - val_loss: 0.3342 - val_binary_accuracy: 0.8836\n",
            "Epoch 418/500\n",
            "1423/1423 - 4s - loss: 0.2038 - binary_accuracy: 0.9193 - val_loss: 0.3509 - val_binary_accuracy: 0.8769\n",
            "Epoch 419/500\n",
            "1423/1423 - 4s - loss: 0.2038 - binary_accuracy: 0.9194 - val_loss: 0.3434 - val_binary_accuracy: 0.8797\n",
            "Epoch 420/500\n",
            "1423/1423 - 4s - loss: 0.2037 - binary_accuracy: 0.9192 - val_loss: 0.3130 - val_binary_accuracy: 0.8926\n",
            "Epoch 421/500\n",
            "1423/1423 - 4s - loss: 0.2037 - binary_accuracy: 0.9193 - val_loss: 0.3484 - val_binary_accuracy: 0.8775\n",
            "Epoch 422/500\n",
            "1423/1423 - 4s - loss: 0.2037 - binary_accuracy: 0.9195 - val_loss: 0.3354 - val_binary_accuracy: 0.8831\n",
            "Epoch 423/500\n",
            "1423/1423 - 4s - loss: 0.2037 - binary_accuracy: 0.9192 - val_loss: 0.3511 - val_binary_accuracy: 0.8761\n",
            "Epoch 424/500\n",
            "1423/1423 - 4s - loss: 0.2037 - binary_accuracy: 0.9193 - val_loss: 0.3442 - val_binary_accuracy: 0.8788\n",
            "Epoch 425/500\n",
            "1423/1423 - 4s - loss: 0.2037 - binary_accuracy: 0.9194 - val_loss: 0.3426 - val_binary_accuracy: 0.8794\n",
            "Epoch 426/500\n",
            "1423/1423 - 4s - loss: 0.2036 - binary_accuracy: 0.9193 - val_loss: 0.3296 - val_binary_accuracy: 0.8855\n",
            "Epoch 427/500\n",
            "1423/1423 - 4s - loss: 0.2037 - binary_accuracy: 0.9193 - val_loss: 0.3455 - val_binary_accuracy: 0.8786\n",
            "Epoch 428/500\n",
            "1423/1423 - 4s - loss: 0.2036 - binary_accuracy: 0.9193 - val_loss: 0.3270 - val_binary_accuracy: 0.8858\n",
            "Epoch 429/500\n",
            "1423/1423 - 4s - loss: 0.2036 - binary_accuracy: 0.9193 - val_loss: 0.3293 - val_binary_accuracy: 0.8854\n",
            "Epoch 430/500\n",
            "1423/1423 - 4s - loss: 0.2036 - binary_accuracy: 0.9194 - val_loss: 0.3358 - val_binary_accuracy: 0.8830\n",
            "Epoch 431/500\n",
            "1423/1423 - 4s - loss: 0.2036 - binary_accuracy: 0.9193 - val_loss: 0.3337 - val_binary_accuracy: 0.8834\n",
            "Epoch 432/500\n",
            "1423/1423 - 4s - loss: 0.2035 - binary_accuracy: 0.9195 - val_loss: 0.3409 - val_binary_accuracy: 0.8800\n",
            "Epoch 433/500\n",
            "1423/1423 - 4s - loss: 0.2035 - binary_accuracy: 0.9194 - val_loss: 0.3467 - val_binary_accuracy: 0.8780\n",
            "Epoch 434/500\n",
            "1423/1423 - 4s - loss: 0.2035 - binary_accuracy: 0.9192 - val_loss: 0.3409 - val_binary_accuracy: 0.8810\n",
            "Epoch 435/500\n",
            "1423/1423 - 4s - loss: 0.2035 - binary_accuracy: 0.9195 - val_loss: 0.3269 - val_binary_accuracy: 0.8865\n",
            "Epoch 436/500\n",
            "1423/1423 - 4s - loss: 0.2035 - binary_accuracy: 0.9194 - val_loss: 0.3557 - val_binary_accuracy: 0.8753\n",
            "Epoch 437/500\n",
            "1423/1423 - 4s - loss: 0.2035 - binary_accuracy: 0.9193 - val_loss: 0.3288 - val_binary_accuracy: 0.8854\n",
            "Epoch 438/500\n",
            "1423/1423 - 4s - loss: 0.2035 - binary_accuracy: 0.9193 - val_loss: 0.3267 - val_binary_accuracy: 0.8860\n",
            "Epoch 439/500\n",
            "1423/1423 - 4s - loss: 0.2034 - binary_accuracy: 0.9192 - val_loss: 0.3411 - val_binary_accuracy: 0.8805\n",
            "Epoch 440/500\n",
            "1423/1423 - 4s - loss: 0.2034 - binary_accuracy: 0.9194 - val_loss: 0.3521 - val_binary_accuracy: 0.8757\n",
            "Epoch 441/500\n",
            "1423/1423 - 4s - loss: 0.2034 - binary_accuracy: 0.9193 - val_loss: 0.3423 - val_binary_accuracy: 0.8805\n",
            "Epoch 442/500\n",
            "1423/1423 - 4s - loss: 0.2034 - binary_accuracy: 0.9195 - val_loss: 0.3327 - val_binary_accuracy: 0.8837\n",
            "Epoch 443/500\n",
            "1423/1423 - 4s - loss: 0.2034 - binary_accuracy: 0.9195 - val_loss: 0.3368 - val_binary_accuracy: 0.8820\n",
            "Epoch 444/500\n",
            "1423/1423 - 4s - loss: 0.2034 - binary_accuracy: 0.9196 - val_loss: 0.3284 - val_binary_accuracy: 0.8856\n",
            "Epoch 445/500\n",
            "1423/1423 - 4s - loss: 0.2034 - binary_accuracy: 0.9195 - val_loss: 0.3133 - val_binary_accuracy: 0.8918\n",
            "Epoch 446/500\n",
            "1423/1423 - 4s - loss: 0.2034 - binary_accuracy: 0.9194 - val_loss: 0.3384 - val_binary_accuracy: 0.8820\n",
            "Epoch 447/500\n",
            "1423/1423 - 4s - loss: 0.2033 - binary_accuracy: 0.9194 - val_loss: 0.3171 - val_binary_accuracy: 0.8897\n",
            "Epoch 448/500\n",
            "1423/1423 - 4s - loss: 0.2033 - binary_accuracy: 0.9193 - val_loss: 0.3421 - val_binary_accuracy: 0.8789\n",
            "Epoch 449/500\n",
            "1423/1423 - 4s - loss: 0.2033 - binary_accuracy: 0.9193 - val_loss: 0.3223 - val_binary_accuracy: 0.8874\n",
            "Epoch 450/500\n",
            "1423/1423 - 4s - loss: 0.2033 - binary_accuracy: 0.9193 - val_loss: 0.3357 - val_binary_accuracy: 0.8826\n",
            "Epoch 451/500\n",
            "1423/1423 - 4s - loss: 0.2033 - binary_accuracy: 0.9193 - val_loss: 0.3260 - val_binary_accuracy: 0.8860\n",
            "Epoch 452/500\n",
            "1423/1423 - 4s - loss: 0.2033 - binary_accuracy: 0.9195 - val_loss: 0.3473 - val_binary_accuracy: 0.8777\n",
            "Epoch 453/500\n",
            "1423/1423 - 4s - loss: 0.2032 - binary_accuracy: 0.9193 - val_loss: 0.3514 - val_binary_accuracy: 0.8763\n",
            "Epoch 454/500\n",
            "1423/1423 - 4s - loss: 0.2032 - binary_accuracy: 0.9195 - val_loss: 0.3123 - val_binary_accuracy: 0.8918\n",
            "Epoch 455/500\n",
            "1423/1423 - 4s - loss: 0.2032 - binary_accuracy: 0.9195 - val_loss: 0.3421 - val_binary_accuracy: 0.8797\n",
            "Epoch 456/500\n",
            "1423/1423 - 4s - loss: 0.2032 - binary_accuracy: 0.9194 - val_loss: 0.3402 - val_binary_accuracy: 0.8806\n",
            "Epoch 457/500\n",
            "1423/1423 - 4s - loss: 0.2032 - binary_accuracy: 0.9194 - val_loss: 0.3319 - val_binary_accuracy: 0.8837\n",
            "Epoch 458/500\n",
            "1423/1423 - 4s - loss: 0.2032 - binary_accuracy: 0.9195 - val_loss: 0.3337 - val_binary_accuracy: 0.8834\n",
            "Epoch 459/500\n",
            "1423/1423 - 4s - loss: 0.2032 - binary_accuracy: 0.9195 - val_loss: 0.3421 - val_binary_accuracy: 0.8798\n",
            "Epoch 460/500\n",
            "1423/1423 - 4s - loss: 0.2031 - binary_accuracy: 0.9194 - val_loss: 0.3393 - val_binary_accuracy: 0.8815\n",
            "Epoch 461/500\n",
            "1423/1423 - 4s - loss: 0.2031 - binary_accuracy: 0.9195 - val_loss: 0.3281 - val_binary_accuracy: 0.8854\n",
            "Epoch 462/500\n",
            "1423/1423 - 4s - loss: 0.2031 - binary_accuracy: 0.9195 - val_loss: 0.3327 - val_binary_accuracy: 0.8841\n",
            "Epoch 463/500\n",
            "1423/1423 - 4s - loss: 0.2031 - binary_accuracy: 0.9195 - val_loss: 0.3422 - val_binary_accuracy: 0.8799\n",
            "Epoch 464/500\n",
            "1423/1423 - 4s - loss: 0.2030 - binary_accuracy: 0.9195 - val_loss: 0.3207 - val_binary_accuracy: 0.8881\n",
            "Epoch 465/500\n",
            "1423/1423 - 4s - loss: 0.2031 - binary_accuracy: 0.9195 - val_loss: 0.3149 - val_binary_accuracy: 0.8922\n",
            "Epoch 466/500\n",
            "1423/1423 - 4s - loss: 0.2031 - binary_accuracy: 0.9194 - val_loss: 0.3395 - val_binary_accuracy: 0.8807\n",
            "Epoch 467/500\n",
            "1423/1423 - 4s - loss: 0.2030 - binary_accuracy: 0.9194 - val_loss: 0.3328 - val_binary_accuracy: 0.8836\n",
            "Epoch 468/500\n",
            "1423/1423 - 4s - loss: 0.2030 - binary_accuracy: 0.9195 - val_loss: 0.3428 - val_binary_accuracy: 0.8795\n",
            "Epoch 469/500\n",
            "1423/1423 - 4s - loss: 0.2030 - binary_accuracy: 0.9195 - val_loss: 0.3281 - val_binary_accuracy: 0.8856\n",
            "Epoch 470/500\n",
            "1423/1423 - 5s - loss: 0.2030 - binary_accuracy: 0.9195 - val_loss: 0.3255 - val_binary_accuracy: 0.8864\n",
            "Epoch 471/500\n",
            "1423/1423 - 5s - loss: 0.2030 - binary_accuracy: 0.9196 - val_loss: 0.3215 - val_binary_accuracy: 0.8892\n",
            "Epoch 472/500\n",
            "1423/1423 - 4s - loss: 0.2030 - binary_accuracy: 0.9195 - val_loss: 0.3332 - val_binary_accuracy: 0.8830\n",
            "Epoch 473/500\n",
            "1423/1423 - 4s - loss: 0.2030 - binary_accuracy: 0.9197 - val_loss: 0.3272 - val_binary_accuracy: 0.8857\n",
            "Epoch 474/500\n",
            "1423/1423 - 4s - loss: 0.2029 - binary_accuracy: 0.9197 - val_loss: 0.3397 - val_binary_accuracy: 0.8811\n",
            "Epoch 475/500\n",
            "1423/1423 - 4s - loss: 0.2029 - binary_accuracy: 0.9197 - val_loss: 0.3456 - val_binary_accuracy: 0.8793\n",
            "Epoch 476/500\n",
            "1423/1423 - 4s - loss: 0.2029 - binary_accuracy: 0.9195 - val_loss: 0.3223 - val_binary_accuracy: 0.8890\n",
            "Epoch 477/500\n",
            "1423/1423 - 4s - loss: 0.2029 - binary_accuracy: 0.9195 - val_loss: 0.3443 - val_binary_accuracy: 0.8798\n",
            "Epoch 478/500\n",
            "1423/1423 - 4s - loss: 0.2029 - binary_accuracy: 0.9197 - val_loss: 0.3258 - val_binary_accuracy: 0.8875\n",
            "Epoch 479/500\n",
            "1423/1423 - 4s - loss: 0.2029 - binary_accuracy: 0.9197 - val_loss: 0.3477 - val_binary_accuracy: 0.8778\n",
            "Epoch 480/500\n",
            "1423/1423 - 4s - loss: 0.2029 - binary_accuracy: 0.9196 - val_loss: 0.3587 - val_binary_accuracy: 0.8740\n",
            "Epoch 481/500\n",
            "1423/1423 - 4s - loss: 0.2029 - binary_accuracy: 0.9197 - val_loss: 0.3352 - val_binary_accuracy: 0.8842\n",
            "Epoch 482/500\n",
            "1423/1423 - 4s - loss: 0.2028 - binary_accuracy: 0.9198 - val_loss: 0.3236 - val_binary_accuracy: 0.8890\n",
            "Epoch 483/500\n",
            "1423/1423 - 4s - loss: 0.2028 - binary_accuracy: 0.9199 - val_loss: 0.3255 - val_binary_accuracy: 0.8876\n",
            "Epoch 484/500\n",
            "1423/1423 - 4s - loss: 0.2028 - binary_accuracy: 0.9197 - val_loss: 0.3391 - val_binary_accuracy: 0.8819\n",
            "Epoch 485/500\n",
            "1423/1423 - 4s - loss: 0.2028 - binary_accuracy: 0.9197 - val_loss: 0.3324 - val_binary_accuracy: 0.8852\n",
            "Epoch 486/500\n",
            "1423/1423 - 4s - loss: 0.2028 - binary_accuracy: 0.9198 - val_loss: 0.3403 - val_binary_accuracy: 0.8823\n",
            "Epoch 487/500\n",
            "1423/1423 - 4s - loss: 0.2028 - binary_accuracy: 0.9198 - val_loss: 0.3214 - val_binary_accuracy: 0.8892\n",
            "Epoch 488/500\n",
            "1423/1423 - 4s - loss: 0.2028 - binary_accuracy: 0.9198 - val_loss: 0.3432 - val_binary_accuracy: 0.8802\n",
            "Epoch 489/500\n",
            "1423/1423 - 4s - loss: 0.2027 - binary_accuracy: 0.9198 - val_loss: 0.3248 - val_binary_accuracy: 0.8883\n",
            "Epoch 490/500\n",
            "1423/1423 - 4s - loss: 0.2027 - binary_accuracy: 0.9198 - val_loss: 0.3341 - val_binary_accuracy: 0.8851\n",
            "Epoch 491/500\n",
            "1423/1423 - 4s - loss: 0.2027 - binary_accuracy: 0.9199 - val_loss: 0.3435 - val_binary_accuracy: 0.8812\n",
            "Epoch 492/500\n",
            "1423/1423 - 4s - loss: 0.2027 - binary_accuracy: 0.9200 - val_loss: 0.3292 - val_binary_accuracy: 0.8864\n",
            "Epoch 493/500\n",
            "1423/1423 - 4s - loss: 0.2027 - binary_accuracy: 0.9198 - val_loss: 0.3461 - val_binary_accuracy: 0.8788\n",
            "Epoch 494/500\n",
            "1423/1423 - 4s - loss: 0.2027 - binary_accuracy: 0.9199 - val_loss: 0.3197 - val_binary_accuracy: 0.8906\n",
            "Epoch 495/500\n",
            "1423/1423 - 4s - loss: 0.2027 - binary_accuracy: 0.9200 - val_loss: 0.3190 - val_binary_accuracy: 0.8907\n",
            "Epoch 496/500\n",
            "1423/1423 - 4s - loss: 0.2027 - binary_accuracy: 0.9198 - val_loss: 0.3230 - val_binary_accuracy: 0.8884\n",
            "Epoch 497/500\n",
            "1423/1423 - 4s - loss: 0.2026 - binary_accuracy: 0.9199 - val_loss: 0.3313 - val_binary_accuracy: 0.8855\n",
            "Epoch 498/500\n",
            "1423/1423 - 4s - loss: 0.2026 - binary_accuracy: 0.9199 - val_loss: 0.3604 - val_binary_accuracy: 0.8738\n",
            "Epoch 499/500\n",
            "1423/1423 - 4s - loss: 0.2026 - binary_accuracy: 0.9196 - val_loss: 0.3377 - val_binary_accuracy: 0.8833\n",
            "Epoch 500/500\n",
            "1423/1423 - 4s - loss: 0.2026 - binary_accuracy: 0.9198 - val_loss: 0.3238 - val_binary_accuracy: 0.8886\n"
          ],
          "name": "stdout"
        }
      ]
    },
    {
      "cell_type": "code",
      "metadata": {
        "id": "JGQ1v8PRiQSa",
        "outputId": "2b988d81-aeb1-499b-bc3d-03b948756844",
        "colab": {
          "base_uri": "https://localhost:8080/",
          "height": 334
        }
      },
      "source": [
        "    plt.figure(figsize=(20,5))\n",
        "    plt.plot(ffnn_history.history['loss'], 'b', ffnn_history.history['val_loss'], 'orange')\n",
        "    plt.xlabel('Epoch')\n",
        "    plt.ylabel('Loss')\n",
        "    plt.legend(['Train', 'Val'], loc='upper right')\n",
        "    plt.show()"
      ],
      "execution_count": null,
      "outputs": [
        {
          "output_type": "display_data",
          "data": {
            "image/png": "[encoded data removed]",
            "text/plain": [
              "<Figure size 1440x360 with 1 Axes>"
            ]
          },
          "metadata": {
            "tags": [],
            "needs_background": "light"
          }
        }
      ]
    },
    {
      "cell_type": "code",
      "metadata": {
        "id": "Kn3xAMr142R1"
      },
      "source": [
        "y_pred = ffnn_model.predict(X_test)"
      ],
      "execution_count": null,
      "outputs": []
    },
    {
      "cell_type": "code",
      "metadata": {
        "id": "5x6gEnMlm9Xg",
        "outputId": "7f59a960-e912-4165-a5f2-8da44007fbf6",
        "colab": {
          "base_uri": "https://localhost:8080/"
        }
      },
      "source": [
        "y_pred"
      ],
      "execution_count": null,
      "outputs": [
        {
          "output_type": "execute_result",
          "data": {
            "text/plain": [
              "array([[0.02679554],\n",
              "       [0.00088188],\n",
              "       [0.00480253],\n",
              "       ...,\n",
              "       [0.20393696],\n",
              "       [0.04360825],\n",
              "       [0.00816602]], dtype=float32)"
            ]
          },
          "metadata": {
            "tags": []
          },
          "execution_count": 30
        }
      ]
    },
    {
      "cell_type": "code",
      "metadata": {
        "id": "J9lUz389q76Y",
        "outputId": "cde16eda-9b31-4f76-c514-dabe45868f71",
        "colab": {
          "base_uri": "https://localhost:8080/"
        }
      },
      "source": [
        "_, accuracy = ffnn_model.evaluate(X_test, y_test)\n",
        "print('Accuracy: %.2f' % (accuracy*100))"
      ],
      "execution_count": null,
      "outputs": [
        {
          "output_type": "stream",
          "text": [
            "1786/1786 [==============================] - 2s 1ms/step - loss: 0.1638 - binary_accuracy: 0.9294\n",
            "Accuracy: 92.94\n"
          ],
          "name": "stdout"
        }
      ]
    },
    {
      "cell_type": "code",
      "metadata": {
        "id": "-rUKOpRDsGP0",
        "outputId": "2e5b4243-3f18-4dc3-87cb-dfb1fb8bd264",
        "colab": {
          "base_uri": "https://localhost:8080/"
        }
      },
      "source": [
        "print(confusion_matrix(y_test,y_pred,labels=[0,1]))"
      ],
      "execution_count": null,
      "outputs": [
        {
          "output_type": "stream",
          "text": [
            "[[51948  3807]\n",
            " [  226  1148]]\n"
          ],
          "name": "stdout"
        }
      ]
    },
    {
      "cell_type": "code",
      "metadata": {
        "id": "WByzzd8B7gis",
        "outputId": "c5d24042-633b-4379-f16c-a315d4ccbbd1",
        "colab": {
          "base_uri": "https://localhost:8080/"
        }
      },
      "source": [
        "tn, fp, fn, tp = confusion_matrix(y_test, y_pred).ravel()\n",
        "(tn, fp, fn, tp)"
      ],
      "execution_count": null,
      "outputs": [
        {
          "output_type": "execute_result",
          "data": {
            "text/plain": [
              "(51948, 3807, 226, 1148)"
            ]
          },
          "metadata": {
            "tags": []
          },
          "execution_count": 53
        }
      ]
    },
    {
      "cell_type": "markdown",
      "metadata": {
        "id": "uqn8yf0a-Ifb"
      },
      "source": [
        "# Adaboost"
      ]
    },
    {
      "cell_type": "code",
      "metadata": {
        "id": "tJZqDzV3-Kar",
        "outputId": "44c11f2e-c05d-4383-dba7-6ecec433e580",
        "colab": {
          "base_uri": "https://localhost:8080/"
        }
      },
      "source": [
        "abm = AdaBoostClassifier()\n",
        "abm.fit(X_train_new, y_train_new)\n",
        "print(abm.score(X_test, y_test))"
      ],
      "execution_count": 19,
      "outputs": [
        {
          "output_type": "stream",
          "text": [
            "0.9159621208142975\n"
          ],
          "name": "stdout"
        }
      ]
    }
  ]
}